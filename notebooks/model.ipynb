{
 "cells": [
  {
   "cell_type": "code",
   "execution_count": 27,
   "metadata": {},
   "outputs": [],
   "source": [
    "import pandas as pd\n",
    "from datetime import datetime"
   ]
  },
  {
   "cell_type": "code",
   "execution_count": 29,
   "metadata": {},
   "outputs": [],
   "source": [
    "df = pd.read_csv('data/aim_data_all_models.csv', parse_dates=['date'], date_format=\"%H:%M:%S · %d %b, %y\")"
   ]
  },
  {
   "cell_type": "code",
   "execution_count": 30,
   "metadata": {},
   "outputs": [
    {
     "data": {
      "text/html": [
       "<div>\n",
       "<style scoped>\n",
       "    .dataframe tbody tr th:only-of-type {\n",
       "        vertical-align: middle;\n",
       "    }\n",
       "\n",
       "    .dataframe tbody tr th {\n",
       "        vertical-align: top;\n",
       "    }\n",
       "\n",
       "    .dataframe thead th {\n",
       "        text-align: right;\n",
       "    }\n",
       "</style>\n",
       "<table border=\"1\" class=\"dataframe\">\n",
       "  <thead>\n",
       "    <tr style=\"text-align: right;\">\n",
       "      <th></th>\n",
       "      <th>run</th>\n",
       "      <th>experiment</th>\n",
       "      <th>duration</th>\n",
       "      <th>date</th>\n",
       "      <th>tags</th>\n",
       "      <th>roc_auc_score model=\"GT\", outliers=\"omiss\"</th>\n",
       "      <th>roc_auc_score model=\"GT\", outliers=\"commiss\"</th>\n",
       "      <th>roc_auc_score model=\"CPPOD\", outliers=\"omiss\"</th>\n",
       "      <th>roc_auc_score model=\"CPPOD\", outliers=\"commiss\"</th>\n",
       "      <th>hparams.use_context</th>\n",
       "      <th>...</th>\n",
       "      <th>roc_auc_score model=\"LEN\", outliers=\"omiss\"</th>\n",
       "      <th>roc_auc_score model=\"RND\", outliers=\"commiss\"</th>\n",
       "      <th>roc_auc_score model=\"RND\", outliers=\"omiss\"</th>\n",
       "      <th>hparams.context_intensity_pois_factors</th>\n",
       "      <th>hparams.context_intensity_pois_min</th>\n",
       "      <th>hparams.dt</th>\n",
       "      <th>hparams.n_test</th>\n",
       "      <th>hparams.n_train</th>\n",
       "      <th>hparams.non_regulator_outliers_prob</th>\n",
       "      <th>hparams.t_max</th>\n",
       "    </tr>\n",
       "  </thead>\n",
       "  <tbody>\n",
       "    <tr>\n",
       "      <th>0</th>\n",
       "      <td>Run: b24be7e78ec44a3ca7f13120</td>\n",
       "      <td>default</td>\n",
       "      <td>20min 52sec</td>\n",
       "      <td>2023-09-10 18:20:04</td>\n",
       "      <td>[object Object]</td>\n",
       "      <td>0.756918</td>\n",
       "      <td>0.709765</td>\n",
       "      <td>0.751190</td>\n",
       "      <td>0.701930</td>\n",
       "      <td>True</td>\n",
       "      <td>...</td>\n",
       "      <td>0.664637</td>\n",
       "      <td>0.498512</td>\n",
       "      <td>0.500251</td>\n",
       "      <td>[100, 100]</td>\n",
       "      <td>[0.004, 0.01]</td>\n",
       "      <td>0.1</td>\n",
       "      <td>10</td>\n",
       "      <td>20</td>\n",
       "      <td>0.1</td>\n",
       "      <td>100</td>\n",
       "    </tr>\n",
       "    <tr>\n",
       "      <th>1</th>\n",
       "      <td>Run: 18c32436f14e45b6972d6a9e</td>\n",
       "      <td>default</td>\n",
       "      <td>17min 17sec</td>\n",
       "      <td>2023-09-10 18:02:47</td>\n",
       "      <td>[object Object]</td>\n",
       "      <td>0.752894</td>\n",
       "      <td>0.709060</td>\n",
       "      <td>0.749141</td>\n",
       "      <td>0.704406</td>\n",
       "      <td>True</td>\n",
       "      <td>...</td>\n",
       "      <td>0.657985</td>\n",
       "      <td>0.494288</td>\n",
       "      <td>0.504764</td>\n",
       "      <td>[100, 100]</td>\n",
       "      <td>[0.004, 0.01]</td>\n",
       "      <td>0.1</td>\n",
       "      <td>10</td>\n",
       "      <td>20</td>\n",
       "      <td>0.1</td>\n",
       "      <td>100</td>\n",
       "    </tr>\n",
       "    <tr>\n",
       "      <th>2</th>\n",
       "      <td>Run: 90716095c2664d8c87c0a885</td>\n",
       "      <td>default</td>\n",
       "      <td>8min 34sec</td>\n",
       "      <td>2023-09-10 17:54:12</td>\n",
       "      <td>[object Object]</td>\n",
       "      <td>0.757926</td>\n",
       "      <td>0.714418</td>\n",
       "      <td>0.755511</td>\n",
       "      <td>0.708275</td>\n",
       "      <td>True</td>\n",
       "      <td>...</td>\n",
       "      <td>0.663501</td>\n",
       "      <td>0.494098</td>\n",
       "      <td>0.504495</td>\n",
       "      <td>[100, 100]</td>\n",
       "      <td>[0.004, 0.01]</td>\n",
       "      <td>0.1</td>\n",
       "      <td>10</td>\n",
       "      <td>20</td>\n",
       "      <td>0.1</td>\n",
       "      <td>100</td>\n",
       "    </tr>\n",
       "    <tr>\n",
       "      <th>3</th>\n",
       "      <td>Run: baf15a8614e84e08bf3e9f6b</td>\n",
       "      <td>default</td>\n",
       "      <td>2min 38sec</td>\n",
       "      <td>2023-09-10 17:51:33</td>\n",
       "      <td>[object Object]</td>\n",
       "      <td>0.760953</td>\n",
       "      <td>0.707446</td>\n",
       "      <td>0.751541</td>\n",
       "      <td>0.689308</td>\n",
       "      <td>True</td>\n",
       "      <td>...</td>\n",
       "      <td>0.657553</td>\n",
       "      <td>0.511170</td>\n",
       "      <td>0.494737</td>\n",
       "      <td>[100, 100]</td>\n",
       "      <td>[0.004, 0.01]</td>\n",
       "      <td>0.1</td>\n",
       "      <td>10</td>\n",
       "      <td>20</td>\n",
       "      <td>0.1</td>\n",
       "      <td>100</td>\n",
       "    </tr>\n",
       "    <tr>\n",
       "      <th>4</th>\n",
       "      <td>Run: 93aa80989e184e038efd3e8f</td>\n",
       "      <td>default</td>\n",
       "      <td>37sec 67ms</td>\n",
       "      <td>2023-09-10 17:50:56</td>\n",
       "      <td>[object Object]</td>\n",
       "      <td>0.767366</td>\n",
       "      <td>0.731035</td>\n",
       "      <td>0.734202</td>\n",
       "      <td>0.699436</td>\n",
       "      <td>True</td>\n",
       "      <td>...</td>\n",
       "      <td>0.686266</td>\n",
       "      <td>0.479234</td>\n",
       "      <td>0.511922</td>\n",
       "      <td>[100, 100]</td>\n",
       "      <td>[0.004, 0.01]</td>\n",
       "      <td>0.1</td>\n",
       "      <td>10</td>\n",
       "      <td>20</td>\n",
       "      <td>0.1</td>\n",
       "      <td>100</td>\n",
       "    </tr>\n",
       "  </tbody>\n",
       "</table>\n",
       "<p>5 rows × 24 columns</p>\n",
       "</div>"
      ],
      "text/plain": [
       "                             run experiment     duration                date  \\\n",
       "0  Run: b24be7e78ec44a3ca7f13120    default  20min 52sec 2023-09-10 18:20:04   \n",
       "1  Run: 18c32436f14e45b6972d6a9e    default  17min 17sec 2023-09-10 18:02:47   \n",
       "2  Run: 90716095c2664d8c87c0a885    default   8min 34sec 2023-09-10 17:54:12   \n",
       "3  Run: baf15a8614e84e08bf3e9f6b    default   2min 38sec 2023-09-10 17:51:33   \n",
       "4  Run: 93aa80989e184e038efd3e8f    default   37sec 67ms 2023-09-10 17:50:56   \n",
       "\n",
       "              tags  roc_auc_score model=\"GT\", outliers=\"omiss\"   \\\n",
       "0  [object Object]                                     0.756918   \n",
       "1  [object Object]                                     0.752894   \n",
       "2  [object Object]                                     0.757926   \n",
       "3  [object Object]                                     0.760953   \n",
       "4  [object Object]                                     0.767366   \n",
       "\n",
       "   roc_auc_score model=\"GT\", outliers=\"commiss\"   \\\n",
       "0                                       0.709765   \n",
       "1                                       0.709060   \n",
       "2                                       0.714418   \n",
       "3                                       0.707446   \n",
       "4                                       0.731035   \n",
       "\n",
       "   roc_auc_score model=\"CPPOD\", outliers=\"omiss\"   \\\n",
       "0                                        0.751190   \n",
       "1                                        0.749141   \n",
       "2                                        0.755511   \n",
       "3                                        0.751541   \n",
       "4                                        0.734202   \n",
       "\n",
       "   roc_auc_score model=\"CPPOD\", outliers=\"commiss\"   hparams.use_context  ...  \\\n",
       "0                                          0.701930                 True  ...   \n",
       "1                                          0.704406                 True  ...   \n",
       "2                                          0.708275                 True  ...   \n",
       "3                                          0.689308                 True  ...   \n",
       "4                                          0.699436                 True  ...   \n",
       "\n",
       "   roc_auc_score model=\"LEN\", outliers=\"omiss\"   \\\n",
       "0                                      0.664637   \n",
       "1                                      0.657985   \n",
       "2                                      0.663501   \n",
       "3                                      0.657553   \n",
       "4                                      0.686266   \n",
       "\n",
       "   roc_auc_score model=\"RND\", outliers=\"commiss\"   \\\n",
       "0                                        0.498512   \n",
       "1                                        0.494288   \n",
       "2                                        0.494098   \n",
       "3                                        0.511170   \n",
       "4                                        0.479234   \n",
       "\n",
       "   roc_auc_score model=\"RND\", outliers=\"omiss\"   \\\n",
       "0                                      0.500251   \n",
       "1                                      0.504764   \n",
       "2                                      0.504495   \n",
       "3                                      0.494737   \n",
       "4                                      0.511922   \n",
       "\n",
       "   hparams.context_intensity_pois_factors  hparams.context_intensity_pois_min  \\\n",
       "0                              [100, 100]                       [0.004, 0.01]   \n",
       "1                              [100, 100]                       [0.004, 0.01]   \n",
       "2                              [100, 100]                       [0.004, 0.01]   \n",
       "3                              [100, 100]                       [0.004, 0.01]   \n",
       "4                              [100, 100]                       [0.004, 0.01]   \n",
       "\n",
       "   hparams.dt  hparams.n_test hparams.n_train  \\\n",
       "0         0.1              10              20   \n",
       "1         0.1              10              20   \n",
       "2         0.1              10              20   \n",
       "3         0.1              10              20   \n",
       "4         0.1              10              20   \n",
       "\n",
       "  hparams.non_regulator_outliers_prob  hparams.t_max  \n",
       "0                                 0.1            100  \n",
       "1                                 0.1            100  \n",
       "2                                 0.1            100  \n",
       "3                                 0.1            100  \n",
       "4                                 0.1            100  \n",
       "\n",
       "[5 rows x 24 columns]"
      ]
     },
     "execution_count": 30,
     "metadata": {},
     "output_type": "execute_result"
    }
   ],
   "source": [
    "df.head()"
   ]
  },
  {
   "cell_type": "code",
   "execution_count": 31,
   "metadata": {},
   "outputs": [
    {
     "data": {
      "application/vnd.plotly.v1+json": {
       "config": {
        "plotlyServerURL": "https://plot.ly"
       },
       "data": [
        {
         "mode": "lines",
         "name": "use_context=True, use_personalisation=True",
         "type": "scatter",
         "x": [
          1000,
          400,
          120,
          50,
          10,
          1
         ],
         "y": [
          0.75118974,
          0.74914093,
          0.75551076,
          0.75154135,
          0.73420161,
          0.73123727
         ]
        },
        {
         "mode": "lines",
         "name": "use_context=True, use_personalisation=False",
         "type": "scatter",
         "x": [
          1000,
          400,
          120,
          50,
          10,
          1
         ],
         "y": [
          0.73781811,
          0.73428382,
          0.73412471,
          0.74197919,
          0.73508311,
          0.73139395
         ]
        },
        {
         "mode": "lines",
         "name": "use_context=False, use_personalisation=True",
         "type": "scatter",
         "x": [
          1000,
          400,
          120,
          50,
          10,
          1
         ],
         "y": [
          0.72803023,
          0.72228708,
          0.72502391,
          0.71984256,
          0.7209144,
          0.72314201
         ]
        },
        {
         "mode": "lines",
         "name": "use_context=False, use_personalisation=False",
         "type": "scatter",
         "x": [
          1000,
          400,
          120,
          50,
          10,
          1
         ],
         "y": [
          0.71754721,
          0.71024282,
          0.71199203,
          0.71604124,
          0.71715245,
          0.72606675
         ]
        },
        {
         "line": {
          "dash": "dash"
         },
         "mode": "lines",
         "name": "GT",
         "type": "scatter",
         "x": [
          1000,
          400,
          120,
          50,
          10,
          1
         ],
         "y": [
          0.75691757,
          0.75289386,
          0.75792555,
          0.76095299,
          0.76736622,
          0.73901917
         ]
        }
       ],
       "layout": {
        "legend": {
         "title": {
          "text": "Model, Context & Personalisation"
         }
        },
        "template": {
         "data": {
          "bar": [
           {
            "error_x": {
             "color": "#2a3f5f"
            },
            "error_y": {
             "color": "#2a3f5f"
            },
            "marker": {
             "line": {
              "color": "#E5ECF6",
              "width": 0.5
             },
             "pattern": {
              "fillmode": "overlay",
              "size": 10,
              "solidity": 0.2
             }
            },
            "type": "bar"
           }
          ],
          "barpolar": [
           {
            "marker": {
             "line": {
              "color": "#E5ECF6",
              "width": 0.5
             },
             "pattern": {
              "fillmode": "overlay",
              "size": 10,
              "solidity": 0.2
             }
            },
            "type": "barpolar"
           }
          ],
          "carpet": [
           {
            "aaxis": {
             "endlinecolor": "#2a3f5f",
             "gridcolor": "white",
             "linecolor": "white",
             "minorgridcolor": "white",
             "startlinecolor": "#2a3f5f"
            },
            "baxis": {
             "endlinecolor": "#2a3f5f",
             "gridcolor": "white",
             "linecolor": "white",
             "minorgridcolor": "white",
             "startlinecolor": "#2a3f5f"
            },
            "type": "carpet"
           }
          ],
          "choropleth": [
           {
            "colorbar": {
             "outlinewidth": 0,
             "ticks": ""
            },
            "type": "choropleth"
           }
          ],
          "contour": [
           {
            "colorbar": {
             "outlinewidth": 0,
             "ticks": ""
            },
            "colorscale": [
             [
              0,
              "#0d0887"
             ],
             [
              0.1111111111111111,
              "#46039f"
             ],
             [
              0.2222222222222222,
              "#7201a8"
             ],
             [
              0.3333333333333333,
              "#9c179e"
             ],
             [
              0.4444444444444444,
              "#bd3786"
             ],
             [
              0.5555555555555556,
              "#d8576b"
             ],
             [
              0.6666666666666666,
              "#ed7953"
             ],
             [
              0.7777777777777778,
              "#fb9f3a"
             ],
             [
              0.8888888888888888,
              "#fdca26"
             ],
             [
              1,
              "#f0f921"
             ]
            ],
            "type": "contour"
           }
          ],
          "contourcarpet": [
           {
            "colorbar": {
             "outlinewidth": 0,
             "ticks": ""
            },
            "type": "contourcarpet"
           }
          ],
          "heatmap": [
           {
            "colorbar": {
             "outlinewidth": 0,
             "ticks": ""
            },
            "colorscale": [
             [
              0,
              "#0d0887"
             ],
             [
              0.1111111111111111,
              "#46039f"
             ],
             [
              0.2222222222222222,
              "#7201a8"
             ],
             [
              0.3333333333333333,
              "#9c179e"
             ],
             [
              0.4444444444444444,
              "#bd3786"
             ],
             [
              0.5555555555555556,
              "#d8576b"
             ],
             [
              0.6666666666666666,
              "#ed7953"
             ],
             [
              0.7777777777777778,
              "#fb9f3a"
             ],
             [
              0.8888888888888888,
              "#fdca26"
             ],
             [
              1,
              "#f0f921"
             ]
            ],
            "type": "heatmap"
           }
          ],
          "heatmapgl": [
           {
            "colorbar": {
             "outlinewidth": 0,
             "ticks": ""
            },
            "colorscale": [
             [
              0,
              "#0d0887"
             ],
             [
              0.1111111111111111,
              "#46039f"
             ],
             [
              0.2222222222222222,
              "#7201a8"
             ],
             [
              0.3333333333333333,
              "#9c179e"
             ],
             [
              0.4444444444444444,
              "#bd3786"
             ],
             [
              0.5555555555555556,
              "#d8576b"
             ],
             [
              0.6666666666666666,
              "#ed7953"
             ],
             [
              0.7777777777777778,
              "#fb9f3a"
             ],
             [
              0.8888888888888888,
              "#fdca26"
             ],
             [
              1,
              "#f0f921"
             ]
            ],
            "type": "heatmapgl"
           }
          ],
          "histogram": [
           {
            "marker": {
             "pattern": {
              "fillmode": "overlay",
              "size": 10,
              "solidity": 0.2
             }
            },
            "type": "histogram"
           }
          ],
          "histogram2d": [
           {
            "colorbar": {
             "outlinewidth": 0,
             "ticks": ""
            },
            "colorscale": [
             [
              0,
              "#0d0887"
             ],
             [
              0.1111111111111111,
              "#46039f"
             ],
             [
              0.2222222222222222,
              "#7201a8"
             ],
             [
              0.3333333333333333,
              "#9c179e"
             ],
             [
              0.4444444444444444,
              "#bd3786"
             ],
             [
              0.5555555555555556,
              "#d8576b"
             ],
             [
              0.6666666666666666,
              "#ed7953"
             ],
             [
              0.7777777777777778,
              "#fb9f3a"
             ],
             [
              0.8888888888888888,
              "#fdca26"
             ],
             [
              1,
              "#f0f921"
             ]
            ],
            "type": "histogram2d"
           }
          ],
          "histogram2dcontour": [
           {
            "colorbar": {
             "outlinewidth": 0,
             "ticks": ""
            },
            "colorscale": [
             [
              0,
              "#0d0887"
             ],
             [
              0.1111111111111111,
              "#46039f"
             ],
             [
              0.2222222222222222,
              "#7201a8"
             ],
             [
              0.3333333333333333,
              "#9c179e"
             ],
             [
              0.4444444444444444,
              "#bd3786"
             ],
             [
              0.5555555555555556,
              "#d8576b"
             ],
             [
              0.6666666666666666,
              "#ed7953"
             ],
             [
              0.7777777777777778,
              "#fb9f3a"
             ],
             [
              0.8888888888888888,
              "#fdca26"
             ],
             [
              1,
              "#f0f921"
             ]
            ],
            "type": "histogram2dcontour"
           }
          ],
          "mesh3d": [
           {
            "colorbar": {
             "outlinewidth": 0,
             "ticks": ""
            },
            "type": "mesh3d"
           }
          ],
          "parcoords": [
           {
            "line": {
             "colorbar": {
              "outlinewidth": 0,
              "ticks": ""
             }
            },
            "type": "parcoords"
           }
          ],
          "pie": [
           {
            "automargin": true,
            "type": "pie"
           }
          ],
          "scatter": [
           {
            "fillpattern": {
             "fillmode": "overlay",
             "size": 10,
             "solidity": 0.2
            },
            "type": "scatter"
           }
          ],
          "scatter3d": [
           {
            "line": {
             "colorbar": {
              "outlinewidth": 0,
              "ticks": ""
             }
            },
            "marker": {
             "colorbar": {
              "outlinewidth": 0,
              "ticks": ""
             }
            },
            "type": "scatter3d"
           }
          ],
          "scattercarpet": [
           {
            "marker": {
             "colorbar": {
              "outlinewidth": 0,
              "ticks": ""
             }
            },
            "type": "scattercarpet"
           }
          ],
          "scattergeo": [
           {
            "marker": {
             "colorbar": {
              "outlinewidth": 0,
              "ticks": ""
             }
            },
            "type": "scattergeo"
           }
          ],
          "scattergl": [
           {
            "marker": {
             "colorbar": {
              "outlinewidth": 0,
              "ticks": ""
             }
            },
            "type": "scattergl"
           }
          ],
          "scattermapbox": [
           {
            "marker": {
             "colorbar": {
              "outlinewidth": 0,
              "ticks": ""
             }
            },
            "type": "scattermapbox"
           }
          ],
          "scatterpolar": [
           {
            "marker": {
             "colorbar": {
              "outlinewidth": 0,
              "ticks": ""
             }
            },
            "type": "scatterpolar"
           }
          ],
          "scatterpolargl": [
           {
            "marker": {
             "colorbar": {
              "outlinewidth": 0,
              "ticks": ""
             }
            },
            "type": "scatterpolargl"
           }
          ],
          "scatterternary": [
           {
            "marker": {
             "colorbar": {
              "outlinewidth": 0,
              "ticks": ""
             }
            },
            "type": "scatterternary"
           }
          ],
          "surface": [
           {
            "colorbar": {
             "outlinewidth": 0,
             "ticks": ""
            },
            "colorscale": [
             [
              0,
              "#0d0887"
             ],
             [
              0.1111111111111111,
              "#46039f"
             ],
             [
              0.2222222222222222,
              "#7201a8"
             ],
             [
              0.3333333333333333,
              "#9c179e"
             ],
             [
              0.4444444444444444,
              "#bd3786"
             ],
             [
              0.5555555555555556,
              "#d8576b"
             ],
             [
              0.6666666666666666,
              "#ed7953"
             ],
             [
              0.7777777777777778,
              "#fb9f3a"
             ],
             [
              0.8888888888888888,
              "#fdca26"
             ],
             [
              1,
              "#f0f921"
             ]
            ],
            "type": "surface"
           }
          ],
          "table": [
           {
            "cells": {
             "fill": {
              "color": "#EBF0F8"
             },
             "line": {
              "color": "white"
             }
            },
            "header": {
             "fill": {
              "color": "#C8D4E3"
             },
             "line": {
              "color": "white"
             }
            },
            "type": "table"
           }
          ]
         },
         "layout": {
          "annotationdefaults": {
           "arrowcolor": "#2a3f5f",
           "arrowhead": 0,
           "arrowwidth": 1
          },
          "autotypenumbers": "strict",
          "coloraxis": {
           "colorbar": {
            "outlinewidth": 0,
            "ticks": ""
           }
          },
          "colorscale": {
           "diverging": [
            [
             0,
             "#8e0152"
            ],
            [
             0.1,
             "#c51b7d"
            ],
            [
             0.2,
             "#de77ae"
            ],
            [
             0.3,
             "#f1b6da"
            ],
            [
             0.4,
             "#fde0ef"
            ],
            [
             0.5,
             "#f7f7f7"
            ],
            [
             0.6,
             "#e6f5d0"
            ],
            [
             0.7,
             "#b8e186"
            ],
            [
             0.8,
             "#7fbc41"
            ],
            [
             0.9,
             "#4d9221"
            ],
            [
             1,
             "#276419"
            ]
           ],
           "sequential": [
            [
             0,
             "#0d0887"
            ],
            [
             0.1111111111111111,
             "#46039f"
            ],
            [
             0.2222222222222222,
             "#7201a8"
            ],
            [
             0.3333333333333333,
             "#9c179e"
            ],
            [
             0.4444444444444444,
             "#bd3786"
            ],
            [
             0.5555555555555556,
             "#d8576b"
            ],
            [
             0.6666666666666666,
             "#ed7953"
            ],
            [
             0.7777777777777778,
             "#fb9f3a"
            ],
            [
             0.8888888888888888,
             "#fdca26"
            ],
            [
             1,
             "#f0f921"
            ]
           ],
           "sequentialminus": [
            [
             0,
             "#0d0887"
            ],
            [
             0.1111111111111111,
             "#46039f"
            ],
            [
             0.2222222222222222,
             "#7201a8"
            ],
            [
             0.3333333333333333,
             "#9c179e"
            ],
            [
             0.4444444444444444,
             "#bd3786"
            ],
            [
             0.5555555555555556,
             "#d8576b"
            ],
            [
             0.6666666666666666,
             "#ed7953"
            ],
            [
             0.7777777777777778,
             "#fb9f3a"
            ],
            [
             0.8888888888888888,
             "#fdca26"
            ],
            [
             1,
             "#f0f921"
            ]
           ]
          },
          "colorway": [
           "#636efa",
           "#EF553B",
           "#00cc96",
           "#ab63fa",
           "#FFA15A",
           "#19d3f3",
           "#FF6692",
           "#B6E880",
           "#FF97FF",
           "#FECB52"
          ],
          "font": {
           "color": "#2a3f5f"
          },
          "geo": {
           "bgcolor": "white",
           "lakecolor": "white",
           "landcolor": "#E5ECF6",
           "showlakes": true,
           "showland": true,
           "subunitcolor": "white"
          },
          "hoverlabel": {
           "align": "left"
          },
          "hovermode": "closest",
          "mapbox": {
           "style": "light"
          },
          "paper_bgcolor": "white",
          "plot_bgcolor": "#E5ECF6",
          "polar": {
           "angularaxis": {
            "gridcolor": "white",
            "linecolor": "white",
            "ticks": ""
           },
           "bgcolor": "#E5ECF6",
           "radialaxis": {
            "gridcolor": "white",
            "linecolor": "white",
            "ticks": ""
           }
          },
          "scene": {
           "xaxis": {
            "backgroundcolor": "#E5ECF6",
            "gridcolor": "white",
            "gridwidth": 2,
            "linecolor": "white",
            "showbackground": true,
            "ticks": "",
            "zerolinecolor": "white"
           },
           "yaxis": {
            "backgroundcolor": "#E5ECF6",
            "gridcolor": "white",
            "gridwidth": 2,
            "linecolor": "white",
            "showbackground": true,
            "ticks": "",
            "zerolinecolor": "white"
           },
           "zaxis": {
            "backgroundcolor": "#E5ECF6",
            "gridcolor": "white",
            "gridwidth": 2,
            "linecolor": "white",
            "showbackground": true,
            "ticks": "",
            "zerolinecolor": "white"
           }
          },
          "shapedefaults": {
           "line": {
            "color": "#2a3f5f"
           }
          },
          "ternary": {
           "aaxis": {
            "gridcolor": "white",
            "linecolor": "white",
            "ticks": ""
           },
           "baxis": {
            "gridcolor": "white",
            "linecolor": "white",
            "ticks": ""
           },
           "bgcolor": "#E5ECF6",
           "caxis": {
            "gridcolor": "white",
            "linecolor": "white",
            "ticks": ""
           }
          },
          "title": {
           "x": 0.05
          },
          "xaxis": {
           "automargin": true,
           "gridcolor": "white",
           "linecolor": "white",
           "ticks": "",
           "title": {
            "standoff": 15
           },
           "zerolinecolor": "white",
           "zerolinewidth": 2
          },
          "yaxis": {
           "automargin": true,
           "gridcolor": "white",
           "linecolor": "white",
           "ticks": "",
           "title": {
            "standoff": 15
           },
           "zerolinecolor": "white",
           "zerolinewidth": 2
          }
         }
        },
        "title": {
         "text": "ROC AUC Score by Number of Persons"
        },
        "xaxis": {
         "title": {
          "text": "Number of Persons"
         }
        },
        "yaxis": {
         "title": {
          "text": "ROC AUC Score"
         }
        }
       }
      }
     },
     "metadata": {},
     "output_type": "display_data"
    }
   ],
   "source": [
    "import plotly.graph_objects as go\n",
    "\n",
    "# Prepare data for unique combinations of 'hparams.use_context' and 'hparams.use_personalisation'\n",
    "unique_combinations = df[['hparams.use_context', 'hparams.use_personalisation']].drop_duplicates()\n",
    "\n",
    "# Create a Plotly figure\n",
    "fig = go.Figure()\n",
    "\n",
    "# Add lines for each unique combination for model=\"CPPOD\", outliers=\"omiss\"\n",
    "for _, row in unique_combinations.iterrows():\n",
    "    subset_df = df[(df['hparams.use_context'] == row['hparams.use_context']) & \n",
    "                            (df['hparams.use_personalisation'] == row['hparams.use_personalisation'])]\n",
    "    \n",
    "    label = f\"use_context={row['hparams.use_context']}, use_personalisation={row['hparams.use_personalisation']}\"\n",
    "    \n",
    "    fig.add_trace(go.Scatter(x=subset_df['hparams.n_persons'],\n",
    "                             y=subset_df['roc_auc_score model=\"CPPOD\", outliers=\"omiss\" '],\n",
    "                             mode='lines',\n",
    "                             name=label))\n",
    "\n",
    "# Add a single line for model=\"GT\", outliers=\"omiss\"\n",
    "any_combination = df[['hparams.use_context', 'hparams.use_personalisation']].drop_duplicates().iloc[0]\n",
    "subset_df_for_gt = df[(df['hparams.use_context'] == any_combination['hparams.use_context']) & \n",
    "                               (df['hparams.use_personalisation'] == any_combination['hparams.use_personalisation'])]\n",
    "any_value = subset_df_for_gt['roc_auc_score model=\"GT\", outliers=\"omiss\" '].iloc[0]\n",
    "\n",
    "fig.add_trace(go.Scatter(x=subset_df_for_gt['hparams.n_persons'],\n",
    "                         y=subset_df_for_gt['roc_auc_score model=\"GT\", outliers=\"omiss\" '],\n",
    "                         mode='lines',\n",
    "                         name='GT',\n",
    "                         line=dict(dash='dash')))\n",
    "\n",
    "# Update layout\n",
    "fig.update_layout(title='ROC AUC Score by Number of Persons',\n",
    "                  xaxis_title='Number of Persons',\n",
    "                  yaxis_title='ROC AUC Score',\n",
    "                  legend_title='Model, Context & Personalisation')\n",
    "\n",
    "# Show figure\n",
    "fig.show()"
   ]
  },
  {
   "cell_type": "code",
   "execution_count": 33,
   "metadata": {},
   "outputs": [
    {
     "data": {
      "application/vnd.plotly.v1+json": {
       "config": {
        "plotlyServerURL": "https://plot.ly"
       },
       "data": [
        {
         "mode": "lines",
         "name": "use_context=True, use_personalisation=True",
         "type": "scatter",
         "x": [
          1000,
          400,
          120,
          50,
          10,
          1
         ],
         "y": [
          0.70193043,
          0.70440606,
          0.70827539,
          0.68930819,
          0.69943631,
          0.66552326
         ]
        },
        {
         "mode": "lines",
         "name": "use_context=True, use_personalisation=False",
         "type": "scatter",
         "x": [
          1000,
          400,
          120,
          50,
          10,
          1
         ],
         "y": [
          0.68522701,
          0.68436626,
          0.68616307,
          0.68239817,
          0.69937027,
          0.66116279
         ]
        },
        {
         "mode": "lines",
         "name": "use_context=False, use_personalisation=True",
         "type": "scatter",
         "x": [
          1000,
          400,
          120,
          50,
          10,
          1
         ],
         "y": [
          0.65976156,
          0.65704826,
          0.66193627,
          0.64537969,
          0.67378106,
          0.56011628
         ]
        },
        {
         "mode": "lines",
         "name": "use_context=False, use_personalisation=False",
         "type": "scatter",
         "x": [
          1000,
          400,
          120,
          50,
          10,
          1
         ],
         "y": [
          0.64699896,
          0.64821425,
          0.65004348,
          0.63848749,
          0.66899378,
          0.56802326
         ]
        },
        {
         "line": {
          "dash": "dash"
         },
         "mode": "lines",
         "name": "GT",
         "type": "scatter",
         "x": [
          1000,
          400,
          120,
          50,
          10,
          1
         ],
         "y": [
          0.7097649,
          0.70906009,
          0.71441803,
          0.70744632,
          0.73103515,
          0.63488372
         ]
        }
       ],
       "layout": {
        "legend": {
         "title": {
          "text": "Model, Context & Personalisation"
         }
        },
        "template": {
         "data": {
          "bar": [
           {
            "error_x": {
             "color": "#2a3f5f"
            },
            "error_y": {
             "color": "#2a3f5f"
            },
            "marker": {
             "line": {
              "color": "#E5ECF6",
              "width": 0.5
             },
             "pattern": {
              "fillmode": "overlay",
              "size": 10,
              "solidity": 0.2
             }
            },
            "type": "bar"
           }
          ],
          "barpolar": [
           {
            "marker": {
             "line": {
              "color": "#E5ECF6",
              "width": 0.5
             },
             "pattern": {
              "fillmode": "overlay",
              "size": 10,
              "solidity": 0.2
             }
            },
            "type": "barpolar"
           }
          ],
          "carpet": [
           {
            "aaxis": {
             "endlinecolor": "#2a3f5f",
             "gridcolor": "white",
             "linecolor": "white",
             "minorgridcolor": "white",
             "startlinecolor": "#2a3f5f"
            },
            "baxis": {
             "endlinecolor": "#2a3f5f",
             "gridcolor": "white",
             "linecolor": "white",
             "minorgridcolor": "white",
             "startlinecolor": "#2a3f5f"
            },
            "type": "carpet"
           }
          ],
          "choropleth": [
           {
            "colorbar": {
             "outlinewidth": 0,
             "ticks": ""
            },
            "type": "choropleth"
           }
          ],
          "contour": [
           {
            "colorbar": {
             "outlinewidth": 0,
             "ticks": ""
            },
            "colorscale": [
             [
              0,
              "#0d0887"
             ],
             [
              0.1111111111111111,
              "#46039f"
             ],
             [
              0.2222222222222222,
              "#7201a8"
             ],
             [
              0.3333333333333333,
              "#9c179e"
             ],
             [
              0.4444444444444444,
              "#bd3786"
             ],
             [
              0.5555555555555556,
              "#d8576b"
             ],
             [
              0.6666666666666666,
              "#ed7953"
             ],
             [
              0.7777777777777778,
              "#fb9f3a"
             ],
             [
              0.8888888888888888,
              "#fdca26"
             ],
             [
              1,
              "#f0f921"
             ]
            ],
            "type": "contour"
           }
          ],
          "contourcarpet": [
           {
            "colorbar": {
             "outlinewidth": 0,
             "ticks": ""
            },
            "type": "contourcarpet"
           }
          ],
          "heatmap": [
           {
            "colorbar": {
             "outlinewidth": 0,
             "ticks": ""
            },
            "colorscale": [
             [
              0,
              "#0d0887"
             ],
             [
              0.1111111111111111,
              "#46039f"
             ],
             [
              0.2222222222222222,
              "#7201a8"
             ],
             [
              0.3333333333333333,
              "#9c179e"
             ],
             [
              0.4444444444444444,
              "#bd3786"
             ],
             [
              0.5555555555555556,
              "#d8576b"
             ],
             [
              0.6666666666666666,
              "#ed7953"
             ],
             [
              0.7777777777777778,
              "#fb9f3a"
             ],
             [
              0.8888888888888888,
              "#fdca26"
             ],
             [
              1,
              "#f0f921"
             ]
            ],
            "type": "heatmap"
           }
          ],
          "heatmapgl": [
           {
            "colorbar": {
             "outlinewidth": 0,
             "ticks": ""
            },
            "colorscale": [
             [
              0,
              "#0d0887"
             ],
             [
              0.1111111111111111,
              "#46039f"
             ],
             [
              0.2222222222222222,
              "#7201a8"
             ],
             [
              0.3333333333333333,
              "#9c179e"
             ],
             [
              0.4444444444444444,
              "#bd3786"
             ],
             [
              0.5555555555555556,
              "#d8576b"
             ],
             [
              0.6666666666666666,
              "#ed7953"
             ],
             [
              0.7777777777777778,
              "#fb9f3a"
             ],
             [
              0.8888888888888888,
              "#fdca26"
             ],
             [
              1,
              "#f0f921"
             ]
            ],
            "type": "heatmapgl"
           }
          ],
          "histogram": [
           {
            "marker": {
             "pattern": {
              "fillmode": "overlay",
              "size": 10,
              "solidity": 0.2
             }
            },
            "type": "histogram"
           }
          ],
          "histogram2d": [
           {
            "colorbar": {
             "outlinewidth": 0,
             "ticks": ""
            },
            "colorscale": [
             [
              0,
              "#0d0887"
             ],
             [
              0.1111111111111111,
              "#46039f"
             ],
             [
              0.2222222222222222,
              "#7201a8"
             ],
             [
              0.3333333333333333,
              "#9c179e"
             ],
             [
              0.4444444444444444,
              "#bd3786"
             ],
             [
              0.5555555555555556,
              "#d8576b"
             ],
             [
              0.6666666666666666,
              "#ed7953"
             ],
             [
              0.7777777777777778,
              "#fb9f3a"
             ],
             [
              0.8888888888888888,
              "#fdca26"
             ],
             [
              1,
              "#f0f921"
             ]
            ],
            "type": "histogram2d"
           }
          ],
          "histogram2dcontour": [
           {
            "colorbar": {
             "outlinewidth": 0,
             "ticks": ""
            },
            "colorscale": [
             [
              0,
              "#0d0887"
             ],
             [
              0.1111111111111111,
              "#46039f"
             ],
             [
              0.2222222222222222,
              "#7201a8"
             ],
             [
              0.3333333333333333,
              "#9c179e"
             ],
             [
              0.4444444444444444,
              "#bd3786"
             ],
             [
              0.5555555555555556,
              "#d8576b"
             ],
             [
              0.6666666666666666,
              "#ed7953"
             ],
             [
              0.7777777777777778,
              "#fb9f3a"
             ],
             [
              0.8888888888888888,
              "#fdca26"
             ],
             [
              1,
              "#f0f921"
             ]
            ],
            "type": "histogram2dcontour"
           }
          ],
          "mesh3d": [
           {
            "colorbar": {
             "outlinewidth": 0,
             "ticks": ""
            },
            "type": "mesh3d"
           }
          ],
          "parcoords": [
           {
            "line": {
             "colorbar": {
              "outlinewidth": 0,
              "ticks": ""
             }
            },
            "type": "parcoords"
           }
          ],
          "pie": [
           {
            "automargin": true,
            "type": "pie"
           }
          ],
          "scatter": [
           {
            "fillpattern": {
             "fillmode": "overlay",
             "size": 10,
             "solidity": 0.2
            },
            "type": "scatter"
           }
          ],
          "scatter3d": [
           {
            "line": {
             "colorbar": {
              "outlinewidth": 0,
              "ticks": ""
             }
            },
            "marker": {
             "colorbar": {
              "outlinewidth": 0,
              "ticks": ""
             }
            },
            "type": "scatter3d"
           }
          ],
          "scattercarpet": [
           {
            "marker": {
             "colorbar": {
              "outlinewidth": 0,
              "ticks": ""
             }
            },
            "type": "scattercarpet"
           }
          ],
          "scattergeo": [
           {
            "marker": {
             "colorbar": {
              "outlinewidth": 0,
              "ticks": ""
             }
            },
            "type": "scattergeo"
           }
          ],
          "scattergl": [
           {
            "marker": {
             "colorbar": {
              "outlinewidth": 0,
              "ticks": ""
             }
            },
            "type": "scattergl"
           }
          ],
          "scattermapbox": [
           {
            "marker": {
             "colorbar": {
              "outlinewidth": 0,
              "ticks": ""
             }
            },
            "type": "scattermapbox"
           }
          ],
          "scatterpolar": [
           {
            "marker": {
             "colorbar": {
              "outlinewidth": 0,
              "ticks": ""
             }
            },
            "type": "scatterpolar"
           }
          ],
          "scatterpolargl": [
           {
            "marker": {
             "colorbar": {
              "outlinewidth": 0,
              "ticks": ""
             }
            },
            "type": "scatterpolargl"
           }
          ],
          "scatterternary": [
           {
            "marker": {
             "colorbar": {
              "outlinewidth": 0,
              "ticks": ""
             }
            },
            "type": "scatterternary"
           }
          ],
          "surface": [
           {
            "colorbar": {
             "outlinewidth": 0,
             "ticks": ""
            },
            "colorscale": [
             [
              0,
              "#0d0887"
             ],
             [
              0.1111111111111111,
              "#46039f"
             ],
             [
              0.2222222222222222,
              "#7201a8"
             ],
             [
              0.3333333333333333,
              "#9c179e"
             ],
             [
              0.4444444444444444,
              "#bd3786"
             ],
             [
              0.5555555555555556,
              "#d8576b"
             ],
             [
              0.6666666666666666,
              "#ed7953"
             ],
             [
              0.7777777777777778,
              "#fb9f3a"
             ],
             [
              0.8888888888888888,
              "#fdca26"
             ],
             [
              1,
              "#f0f921"
             ]
            ],
            "type": "surface"
           }
          ],
          "table": [
           {
            "cells": {
             "fill": {
              "color": "#EBF0F8"
             },
             "line": {
              "color": "white"
             }
            },
            "header": {
             "fill": {
              "color": "#C8D4E3"
             },
             "line": {
              "color": "white"
             }
            },
            "type": "table"
           }
          ]
         },
         "layout": {
          "annotationdefaults": {
           "arrowcolor": "#2a3f5f",
           "arrowhead": 0,
           "arrowwidth": 1
          },
          "autotypenumbers": "strict",
          "coloraxis": {
           "colorbar": {
            "outlinewidth": 0,
            "ticks": ""
           }
          },
          "colorscale": {
           "diverging": [
            [
             0,
             "#8e0152"
            ],
            [
             0.1,
             "#c51b7d"
            ],
            [
             0.2,
             "#de77ae"
            ],
            [
             0.3,
             "#f1b6da"
            ],
            [
             0.4,
             "#fde0ef"
            ],
            [
             0.5,
             "#f7f7f7"
            ],
            [
             0.6,
             "#e6f5d0"
            ],
            [
             0.7,
             "#b8e186"
            ],
            [
             0.8,
             "#7fbc41"
            ],
            [
             0.9,
             "#4d9221"
            ],
            [
             1,
             "#276419"
            ]
           ],
           "sequential": [
            [
             0,
             "#0d0887"
            ],
            [
             0.1111111111111111,
             "#46039f"
            ],
            [
             0.2222222222222222,
             "#7201a8"
            ],
            [
             0.3333333333333333,
             "#9c179e"
            ],
            [
             0.4444444444444444,
             "#bd3786"
            ],
            [
             0.5555555555555556,
             "#d8576b"
            ],
            [
             0.6666666666666666,
             "#ed7953"
            ],
            [
             0.7777777777777778,
             "#fb9f3a"
            ],
            [
             0.8888888888888888,
             "#fdca26"
            ],
            [
             1,
             "#f0f921"
            ]
           ],
           "sequentialminus": [
            [
             0,
             "#0d0887"
            ],
            [
             0.1111111111111111,
             "#46039f"
            ],
            [
             0.2222222222222222,
             "#7201a8"
            ],
            [
             0.3333333333333333,
             "#9c179e"
            ],
            [
             0.4444444444444444,
             "#bd3786"
            ],
            [
             0.5555555555555556,
             "#d8576b"
            ],
            [
             0.6666666666666666,
             "#ed7953"
            ],
            [
             0.7777777777777778,
             "#fb9f3a"
            ],
            [
             0.8888888888888888,
             "#fdca26"
            ],
            [
             1,
             "#f0f921"
            ]
           ]
          },
          "colorway": [
           "#636efa",
           "#EF553B",
           "#00cc96",
           "#ab63fa",
           "#FFA15A",
           "#19d3f3",
           "#FF6692",
           "#B6E880",
           "#FF97FF",
           "#FECB52"
          ],
          "font": {
           "color": "#2a3f5f"
          },
          "geo": {
           "bgcolor": "white",
           "lakecolor": "white",
           "landcolor": "#E5ECF6",
           "showlakes": true,
           "showland": true,
           "subunitcolor": "white"
          },
          "hoverlabel": {
           "align": "left"
          },
          "hovermode": "closest",
          "mapbox": {
           "style": "light"
          },
          "paper_bgcolor": "white",
          "plot_bgcolor": "#E5ECF6",
          "polar": {
           "angularaxis": {
            "gridcolor": "white",
            "linecolor": "white",
            "ticks": ""
           },
           "bgcolor": "#E5ECF6",
           "radialaxis": {
            "gridcolor": "white",
            "linecolor": "white",
            "ticks": ""
           }
          },
          "scene": {
           "xaxis": {
            "backgroundcolor": "#E5ECF6",
            "gridcolor": "white",
            "gridwidth": 2,
            "linecolor": "white",
            "showbackground": true,
            "ticks": "",
            "zerolinecolor": "white"
           },
           "yaxis": {
            "backgroundcolor": "#E5ECF6",
            "gridcolor": "white",
            "gridwidth": 2,
            "linecolor": "white",
            "showbackground": true,
            "ticks": "",
            "zerolinecolor": "white"
           },
           "zaxis": {
            "backgroundcolor": "#E5ECF6",
            "gridcolor": "white",
            "gridwidth": 2,
            "linecolor": "white",
            "showbackground": true,
            "ticks": "",
            "zerolinecolor": "white"
           }
          },
          "shapedefaults": {
           "line": {
            "color": "#2a3f5f"
           }
          },
          "ternary": {
           "aaxis": {
            "gridcolor": "white",
            "linecolor": "white",
            "ticks": ""
           },
           "baxis": {
            "gridcolor": "white",
            "linecolor": "white",
            "ticks": ""
           },
           "bgcolor": "#E5ECF6",
           "caxis": {
            "gridcolor": "white",
            "linecolor": "white",
            "ticks": ""
           }
          },
          "title": {
           "x": 0.05
          },
          "xaxis": {
           "automargin": true,
           "gridcolor": "white",
           "linecolor": "white",
           "ticks": "",
           "title": {
            "standoff": 15
           },
           "zerolinecolor": "white",
           "zerolinewidth": 2
          },
          "yaxis": {
           "automargin": true,
           "gridcolor": "white",
           "linecolor": "white",
           "ticks": "",
           "title": {
            "standoff": 15
           },
           "zerolinecolor": "white",
           "zerolinewidth": 2
          }
         }
        },
        "title": {
         "text": "ROC AUC Score by Number of Persons"
        },
        "xaxis": {
         "title": {
          "text": "Number of Persons"
         }
        },
        "yaxis": {
         "title": {
          "text": "ROC AUC Score"
         }
        }
       }
      }
     },
     "metadata": {},
     "output_type": "display_data"
    }
   ],
   "source": [
    "import plotly.graph_objects as go\n",
    "\n",
    "# Prepare data for unique combinations of 'hparams.use_context' and 'hparams.use_personalisation'\n",
    "unique_combinations = df[['hparams.use_context', 'hparams.use_personalisation']].drop_duplicates()\n",
    "\n",
    "# Create a Plotly figure\n",
    "fig = go.Figure()\n",
    "\n",
    "# Add lines for each unique combination for model=\"CPPOD\", outliers=\"omiss\"\n",
    "for _, row in unique_combinations.iterrows():\n",
    "    subset_df = df[(df['hparams.use_context'] == row['hparams.use_context']) & \n",
    "                            (df['hparams.use_personalisation'] == row['hparams.use_personalisation'])]\n",
    "    \n",
    "    label = f\"use_context={row['hparams.use_context']}, use_personalisation={row['hparams.use_personalisation']}\"\n",
    "    \n",
    "    fig.add_trace(go.Scatter(x=subset_df['hparams.n_persons'],\n",
    "                             y=subset_df['roc_auc_score model=\"CPPOD\", outliers=\"commiss\" '],\n",
    "                             mode='lines',\n",
    "                             name=label))\n",
    "\n",
    "# Add a single line for model=\"GT\", outliers=\"omiss\"\n",
    "any_combination = df[['hparams.use_context', 'hparams.use_personalisation']].drop_duplicates().iloc[0]\n",
    "subset_df_for_gt = df[(df['hparams.use_context'] == any_combination['hparams.use_context']) & \n",
    "                               (df['hparams.use_personalisation'] == any_combination['hparams.use_personalisation'])]\n",
    "any_value = subset_df_for_gt['roc_auc_score model=\"GT\", outliers=\"commiss\" '].iloc[0]\n",
    "\n",
    "fig.add_trace(go.Scatter(x=subset_df_for_gt['hparams.n_persons'],\n",
    "                         y=subset_df_for_gt['roc_auc_score model=\"GT\", outliers=\"commiss\" '],\n",
    "                         mode='lines',\n",
    "                         name='GT',\n",
    "                         line=dict(dash='dash')))\n",
    "\n",
    "# Update layout\n",
    "fig.update_layout(title='ROC AUC Score by Number of Persons',\n",
    "                  xaxis_title='Number of Persons',\n",
    "                  yaxis_title='ROC AUC Score',\n",
    "                  legend_title='Model, Context & Personalisation')\n",
    "\n",
    "# Show figure\n",
    "fig.show()"
   ]
  },
  {
   "cell_type": "code",
   "execution_count": 34,
   "metadata": {},
   "outputs": [],
   "source": [
    "df = pd.read_csv('data/aim_data_num_of_trains.csv', parse_dates=['date'], date_format=\"%H:%M:%S · %d %b, %y\")"
   ]
  },
  {
   "cell_type": "code",
   "execution_count": 35,
   "metadata": {},
   "outputs": [
    {
     "data": {
      "text/html": [
       "<div>\n",
       "<style scoped>\n",
       "    .dataframe tbody tr th:only-of-type {\n",
       "        vertical-align: middle;\n",
       "    }\n",
       "\n",
       "    .dataframe tbody tr th {\n",
       "        vertical-align: top;\n",
       "    }\n",
       "\n",
       "    .dataframe thead th {\n",
       "        text-align: right;\n",
       "    }\n",
       "</style>\n",
       "<table border=\"1\" class=\"dataframe\">\n",
       "  <thead>\n",
       "    <tr style=\"text-align: right;\">\n",
       "      <th></th>\n",
       "      <th>run</th>\n",
       "      <th>experiment</th>\n",
       "      <th>duration</th>\n",
       "      <th>date</th>\n",
       "      <th>tags</th>\n",
       "      <th>roc_auc_score model=\"GT\", outliers=\"omiss\"</th>\n",
       "      <th>roc_auc_score model=\"GT\", outliers=\"commiss\"</th>\n",
       "      <th>roc_auc_score model=\"CPPOD\", outliers=\"omiss\"</th>\n",
       "      <th>roc_auc_score model=\"CPPOD\", outliers=\"commiss\"</th>\n",
       "      <th>hparams.use_context</th>\n",
       "      <th>...</th>\n",
       "      <th>roc_auc_score model=\"LEN\", outliers=\"omiss\"</th>\n",
       "      <th>roc_auc_score model=\"RND\", outliers=\"commiss\"</th>\n",
       "      <th>roc_auc_score model=\"RND\", outliers=\"omiss\"</th>\n",
       "      <th>hparams.context_intensity_pois_factors</th>\n",
       "      <th>hparams.context_intensity_pois_min</th>\n",
       "      <th>hparams.dt</th>\n",
       "      <th>hparams.n_test</th>\n",
       "      <th>hparams.n_train</th>\n",
       "      <th>hparams.non_regulator_outliers_prob</th>\n",
       "      <th>hparams.t_max</th>\n",
       "    </tr>\n",
       "  </thead>\n",
       "  <tbody>\n",
       "    <tr>\n",
       "      <th>0</th>\n",
       "      <td>Run: 98964a87fddc4ccc8b68ec95</td>\n",
       "      <td>main</td>\n",
       "      <td>6min 10sec</td>\n",
       "      <td>2023-09-10 20:37:56</td>\n",
       "      <td>[object Object]</td>\n",
       "      <td>0.787229</td>\n",
       "      <td>0.665103</td>\n",
       "      <td>0.741494</td>\n",
       "      <td>0.602281</td>\n",
       "      <td>False</td>\n",
       "      <td>...</td>\n",
       "      <td>0.692826</td>\n",
       "      <td>0.507028</td>\n",
       "      <td>0.500879</td>\n",
       "      <td>[100, 100]</td>\n",
       "      <td>[0.004, 0.01]</td>\n",
       "      <td>0.1</td>\n",
       "      <td>10</td>\n",
       "      <td>1000</td>\n",
       "      <td>0.1</td>\n",
       "      <td>100</td>\n",
       "    </tr>\n",
       "    <tr>\n",
       "      <th>1</th>\n",
       "      <td>Run: 4597e7fada074ecd9ee2a2a9</td>\n",
       "      <td>main</td>\n",
       "      <td>1min 59sec</td>\n",
       "      <td>2023-09-10 20:35:57</td>\n",
       "      <td>[object Object]</td>\n",
       "      <td>0.733331</td>\n",
       "      <td>0.692305</td>\n",
       "      <td>0.697912</td>\n",
       "      <td>0.612460</td>\n",
       "      <td>False</td>\n",
       "      <td>...</td>\n",
       "      <td>0.676747</td>\n",
       "      <td>0.580241</td>\n",
       "      <td>0.442428</td>\n",
       "      <td>[100, 100]</td>\n",
       "      <td>[0.004, 0.01]</td>\n",
       "      <td>0.1</td>\n",
       "      <td>10</td>\n",
       "      <td>500</td>\n",
       "      <td>0.1</td>\n",
       "      <td>100</td>\n",
       "    </tr>\n",
       "    <tr>\n",
       "      <th>2</th>\n",
       "      <td>Run: d21bfb86ad644910b0803954</td>\n",
       "      <td>main</td>\n",
       "      <td>49sec 101ms</td>\n",
       "      <td>2023-09-10 20:35:08</td>\n",
       "      <td>[object Object]</td>\n",
       "      <td>0.748408</td>\n",
       "      <td>0.647948</td>\n",
       "      <td>0.716604</td>\n",
       "      <td>0.591974</td>\n",
       "      <td>False</td>\n",
       "      <td>...</td>\n",
       "      <td>0.679158</td>\n",
       "      <td>0.479334</td>\n",
       "      <td>0.463439</td>\n",
       "      <td>[100, 100]</td>\n",
       "      <td>[0.004, 0.01]</td>\n",
       "      <td>0.1</td>\n",
       "      <td>10</td>\n",
       "      <td>250</td>\n",
       "      <td>0.1</td>\n",
       "      <td>100</td>\n",
       "    </tr>\n",
       "    <tr>\n",
       "      <th>3</th>\n",
       "      <td>Run: 9d9e8ba64bfa440d83e2aa8d</td>\n",
       "      <td>main</td>\n",
       "      <td>24sec 271ms</td>\n",
       "      <td>2023-09-10 20:34:43</td>\n",
       "      <td>[object Object]</td>\n",
       "      <td>0.746183</td>\n",
       "      <td>0.623185</td>\n",
       "      <td>0.724521</td>\n",
       "      <td>0.591499</td>\n",
       "      <td>False</td>\n",
       "      <td>...</td>\n",
       "      <td>0.691004</td>\n",
       "      <td>0.500563</td>\n",
       "      <td>0.516716</td>\n",
       "      <td>[100, 100]</td>\n",
       "      <td>[0.004, 0.01]</td>\n",
       "      <td>0.1</td>\n",
       "      <td>10</td>\n",
       "      <td>100</td>\n",
       "      <td>0.1</td>\n",
       "      <td>100</td>\n",
       "    </tr>\n",
       "    <tr>\n",
       "      <th>4</th>\n",
       "      <td>Run: dde253db3b924620a8202756</td>\n",
       "      <td>main</td>\n",
       "      <td>23sec 83ms</td>\n",
       "      <td>2023-09-10 20:34:20</td>\n",
       "      <td>[object Object]</td>\n",
       "      <td>0.726517</td>\n",
       "      <td>0.683707</td>\n",
       "      <td>0.686958</td>\n",
       "      <td>0.653492</td>\n",
       "      <td>False</td>\n",
       "      <td>...</td>\n",
       "      <td>0.672273</td>\n",
       "      <td>0.489032</td>\n",
       "      <td>0.479075</td>\n",
       "      <td>[100, 100]</td>\n",
       "      <td>[0.004, 0.01]</td>\n",
       "      <td>0.1</td>\n",
       "      <td>10</td>\n",
       "      <td>50</td>\n",
       "      <td>0.1</td>\n",
       "      <td>100</td>\n",
       "    </tr>\n",
       "  </tbody>\n",
       "</table>\n",
       "<p>5 rows × 24 columns</p>\n",
       "</div>"
      ],
      "text/plain": [
       "                             run experiment     duration                date  \\\n",
       "0  Run: 98964a87fddc4ccc8b68ec95       main   6min 10sec 2023-09-10 20:37:56   \n",
       "1  Run: 4597e7fada074ecd9ee2a2a9       main   1min 59sec 2023-09-10 20:35:57   \n",
       "2  Run: d21bfb86ad644910b0803954       main  49sec 101ms 2023-09-10 20:35:08   \n",
       "3  Run: 9d9e8ba64bfa440d83e2aa8d       main  24sec 271ms 2023-09-10 20:34:43   \n",
       "4  Run: dde253db3b924620a8202756       main   23sec 83ms 2023-09-10 20:34:20   \n",
       "\n",
       "              tags  roc_auc_score model=\"GT\", outliers=\"omiss\"   \\\n",
       "0  [object Object]                                     0.787229   \n",
       "1  [object Object]                                     0.733331   \n",
       "2  [object Object]                                     0.748408   \n",
       "3  [object Object]                                     0.746183   \n",
       "4  [object Object]                                     0.726517   \n",
       "\n",
       "   roc_auc_score model=\"GT\", outliers=\"commiss\"   \\\n",
       "0                                       0.665103   \n",
       "1                                       0.692305   \n",
       "2                                       0.647948   \n",
       "3                                       0.623185   \n",
       "4                                       0.683707   \n",
       "\n",
       "   roc_auc_score model=\"CPPOD\", outliers=\"omiss\"   \\\n",
       "0                                        0.741494   \n",
       "1                                        0.697912   \n",
       "2                                        0.716604   \n",
       "3                                        0.724521   \n",
       "4                                        0.686958   \n",
       "\n",
       "   roc_auc_score model=\"CPPOD\", outliers=\"commiss\"   hparams.use_context  ...  \\\n",
       "0                                          0.602281                False  ...   \n",
       "1                                          0.612460                False  ...   \n",
       "2                                          0.591974                False  ...   \n",
       "3                                          0.591499                False  ...   \n",
       "4                                          0.653492                False  ...   \n",
       "\n",
       "   roc_auc_score model=\"LEN\", outliers=\"omiss\"   \\\n",
       "0                                      0.692826   \n",
       "1                                      0.676747   \n",
       "2                                      0.679158   \n",
       "3                                      0.691004   \n",
       "4                                      0.672273   \n",
       "\n",
       "   roc_auc_score model=\"RND\", outliers=\"commiss\"   \\\n",
       "0                                        0.507028   \n",
       "1                                        0.580241   \n",
       "2                                        0.479334   \n",
       "3                                        0.500563   \n",
       "4                                        0.489032   \n",
       "\n",
       "   roc_auc_score model=\"RND\", outliers=\"omiss\"   \\\n",
       "0                                      0.500879   \n",
       "1                                      0.442428   \n",
       "2                                      0.463439   \n",
       "3                                      0.516716   \n",
       "4                                      0.479075   \n",
       "\n",
       "   hparams.context_intensity_pois_factors  hparams.context_intensity_pois_min  \\\n",
       "0                              [100, 100]                       [0.004, 0.01]   \n",
       "1                              [100, 100]                       [0.004, 0.01]   \n",
       "2                              [100, 100]                       [0.004, 0.01]   \n",
       "3                              [100, 100]                       [0.004, 0.01]   \n",
       "4                              [100, 100]                       [0.004, 0.01]   \n",
       "\n",
       "   hparams.dt  hparams.n_test hparams.n_train  \\\n",
       "0         0.1              10            1000   \n",
       "1         0.1              10             500   \n",
       "2         0.1              10             250   \n",
       "3         0.1              10             100   \n",
       "4         0.1              10              50   \n",
       "\n",
       "  hparams.non_regulator_outliers_prob  hparams.t_max  \n",
       "0                                 0.1            100  \n",
       "1                                 0.1            100  \n",
       "2                                 0.1            100  \n",
       "3                                 0.1            100  \n",
       "4                                 0.1            100  \n",
       "\n",
       "[5 rows x 24 columns]"
      ]
     },
     "execution_count": 35,
     "metadata": {},
     "output_type": "execute_result"
    }
   ],
   "source": [
    "df.head()"
   ]
  },
  {
   "cell_type": "code",
   "execution_count": 36,
   "metadata": {},
   "outputs": [
    {
     "data": {
      "application/vnd.plotly.v1+json": {
       "config": {
        "plotlyServerURL": "https://plot.ly"
       },
       "data": [
        {
         "mode": "lines",
         "name": "use_personalisation=False",
         "type": "scatter",
         "x": [
          1000,
          500,
          250,
          100,
          50
         ],
         "y": [
          0.74149431,
          0.69791192,
          0.71660368,
          0.72452135,
          0.68695838
         ]
        },
        {
         "mode": "lines",
         "name": "use_personalisation=True",
         "type": "scatter",
         "x": [
          1000,
          500,
          250,
          100,
          50
         ],
         "y": [
          0.7385212,
          0.69862112,
          0.71533522,
          0.72428817,
          0.68468161
         ]
        },
        {
         "line": {
          "dash": "dash"
         },
         "mode": "lines",
         "name": "GT",
         "type": "scatter",
         "x": [
          1000,
          500,
          250,
          100,
          50
         ],
         "y": [
          0.78722854,
          0.73333131,
          0.74840781,
          0.74618311,
          0.72651725
         ]
        }
       ],
       "layout": {
        "legend": {
         "title": {
          "text": "Model, Personalisation"
         }
        },
        "template": {
         "data": {
          "bar": [
           {
            "error_x": {
             "color": "#2a3f5f"
            },
            "error_y": {
             "color": "#2a3f5f"
            },
            "marker": {
             "line": {
              "color": "#E5ECF6",
              "width": 0.5
             },
             "pattern": {
              "fillmode": "overlay",
              "size": 10,
              "solidity": 0.2
             }
            },
            "type": "bar"
           }
          ],
          "barpolar": [
           {
            "marker": {
             "line": {
              "color": "#E5ECF6",
              "width": 0.5
             },
             "pattern": {
              "fillmode": "overlay",
              "size": 10,
              "solidity": 0.2
             }
            },
            "type": "barpolar"
           }
          ],
          "carpet": [
           {
            "aaxis": {
             "endlinecolor": "#2a3f5f",
             "gridcolor": "white",
             "linecolor": "white",
             "minorgridcolor": "white",
             "startlinecolor": "#2a3f5f"
            },
            "baxis": {
             "endlinecolor": "#2a3f5f",
             "gridcolor": "white",
             "linecolor": "white",
             "minorgridcolor": "white",
             "startlinecolor": "#2a3f5f"
            },
            "type": "carpet"
           }
          ],
          "choropleth": [
           {
            "colorbar": {
             "outlinewidth": 0,
             "ticks": ""
            },
            "type": "choropleth"
           }
          ],
          "contour": [
           {
            "colorbar": {
             "outlinewidth": 0,
             "ticks": ""
            },
            "colorscale": [
             [
              0,
              "#0d0887"
             ],
             [
              0.1111111111111111,
              "#46039f"
             ],
             [
              0.2222222222222222,
              "#7201a8"
             ],
             [
              0.3333333333333333,
              "#9c179e"
             ],
             [
              0.4444444444444444,
              "#bd3786"
             ],
             [
              0.5555555555555556,
              "#d8576b"
             ],
             [
              0.6666666666666666,
              "#ed7953"
             ],
             [
              0.7777777777777778,
              "#fb9f3a"
             ],
             [
              0.8888888888888888,
              "#fdca26"
             ],
             [
              1,
              "#f0f921"
             ]
            ],
            "type": "contour"
           }
          ],
          "contourcarpet": [
           {
            "colorbar": {
             "outlinewidth": 0,
             "ticks": ""
            },
            "type": "contourcarpet"
           }
          ],
          "heatmap": [
           {
            "colorbar": {
             "outlinewidth": 0,
             "ticks": ""
            },
            "colorscale": [
             [
              0,
              "#0d0887"
             ],
             [
              0.1111111111111111,
              "#46039f"
             ],
             [
              0.2222222222222222,
              "#7201a8"
             ],
             [
              0.3333333333333333,
              "#9c179e"
             ],
             [
              0.4444444444444444,
              "#bd3786"
             ],
             [
              0.5555555555555556,
              "#d8576b"
             ],
             [
              0.6666666666666666,
              "#ed7953"
             ],
             [
              0.7777777777777778,
              "#fb9f3a"
             ],
             [
              0.8888888888888888,
              "#fdca26"
             ],
             [
              1,
              "#f0f921"
             ]
            ],
            "type": "heatmap"
           }
          ],
          "heatmapgl": [
           {
            "colorbar": {
             "outlinewidth": 0,
             "ticks": ""
            },
            "colorscale": [
             [
              0,
              "#0d0887"
             ],
             [
              0.1111111111111111,
              "#46039f"
             ],
             [
              0.2222222222222222,
              "#7201a8"
             ],
             [
              0.3333333333333333,
              "#9c179e"
             ],
             [
              0.4444444444444444,
              "#bd3786"
             ],
             [
              0.5555555555555556,
              "#d8576b"
             ],
             [
              0.6666666666666666,
              "#ed7953"
             ],
             [
              0.7777777777777778,
              "#fb9f3a"
             ],
             [
              0.8888888888888888,
              "#fdca26"
             ],
             [
              1,
              "#f0f921"
             ]
            ],
            "type": "heatmapgl"
           }
          ],
          "histogram": [
           {
            "marker": {
             "pattern": {
              "fillmode": "overlay",
              "size": 10,
              "solidity": 0.2
             }
            },
            "type": "histogram"
           }
          ],
          "histogram2d": [
           {
            "colorbar": {
             "outlinewidth": 0,
             "ticks": ""
            },
            "colorscale": [
             [
              0,
              "#0d0887"
             ],
             [
              0.1111111111111111,
              "#46039f"
             ],
             [
              0.2222222222222222,
              "#7201a8"
             ],
             [
              0.3333333333333333,
              "#9c179e"
             ],
             [
              0.4444444444444444,
              "#bd3786"
             ],
             [
              0.5555555555555556,
              "#d8576b"
             ],
             [
              0.6666666666666666,
              "#ed7953"
             ],
             [
              0.7777777777777778,
              "#fb9f3a"
             ],
             [
              0.8888888888888888,
              "#fdca26"
             ],
             [
              1,
              "#f0f921"
             ]
            ],
            "type": "histogram2d"
           }
          ],
          "histogram2dcontour": [
           {
            "colorbar": {
             "outlinewidth": 0,
             "ticks": ""
            },
            "colorscale": [
             [
              0,
              "#0d0887"
             ],
             [
              0.1111111111111111,
              "#46039f"
             ],
             [
              0.2222222222222222,
              "#7201a8"
             ],
             [
              0.3333333333333333,
              "#9c179e"
             ],
             [
              0.4444444444444444,
              "#bd3786"
             ],
             [
              0.5555555555555556,
              "#d8576b"
             ],
             [
              0.6666666666666666,
              "#ed7953"
             ],
             [
              0.7777777777777778,
              "#fb9f3a"
             ],
             [
              0.8888888888888888,
              "#fdca26"
             ],
             [
              1,
              "#f0f921"
             ]
            ],
            "type": "histogram2dcontour"
           }
          ],
          "mesh3d": [
           {
            "colorbar": {
             "outlinewidth": 0,
             "ticks": ""
            },
            "type": "mesh3d"
           }
          ],
          "parcoords": [
           {
            "line": {
             "colorbar": {
              "outlinewidth": 0,
              "ticks": ""
             }
            },
            "type": "parcoords"
           }
          ],
          "pie": [
           {
            "automargin": true,
            "type": "pie"
           }
          ],
          "scatter": [
           {
            "fillpattern": {
             "fillmode": "overlay",
             "size": 10,
             "solidity": 0.2
            },
            "type": "scatter"
           }
          ],
          "scatter3d": [
           {
            "line": {
             "colorbar": {
              "outlinewidth": 0,
              "ticks": ""
             }
            },
            "marker": {
             "colorbar": {
              "outlinewidth": 0,
              "ticks": ""
             }
            },
            "type": "scatter3d"
           }
          ],
          "scattercarpet": [
           {
            "marker": {
             "colorbar": {
              "outlinewidth": 0,
              "ticks": ""
             }
            },
            "type": "scattercarpet"
           }
          ],
          "scattergeo": [
           {
            "marker": {
             "colorbar": {
              "outlinewidth": 0,
              "ticks": ""
             }
            },
            "type": "scattergeo"
           }
          ],
          "scattergl": [
           {
            "marker": {
             "colorbar": {
              "outlinewidth": 0,
              "ticks": ""
             }
            },
            "type": "scattergl"
           }
          ],
          "scattermapbox": [
           {
            "marker": {
             "colorbar": {
              "outlinewidth": 0,
              "ticks": ""
             }
            },
            "type": "scattermapbox"
           }
          ],
          "scatterpolar": [
           {
            "marker": {
             "colorbar": {
              "outlinewidth": 0,
              "ticks": ""
             }
            },
            "type": "scatterpolar"
           }
          ],
          "scatterpolargl": [
           {
            "marker": {
             "colorbar": {
              "outlinewidth": 0,
              "ticks": ""
             }
            },
            "type": "scatterpolargl"
           }
          ],
          "scatterternary": [
           {
            "marker": {
             "colorbar": {
              "outlinewidth": 0,
              "ticks": ""
             }
            },
            "type": "scatterternary"
           }
          ],
          "surface": [
           {
            "colorbar": {
             "outlinewidth": 0,
             "ticks": ""
            },
            "colorscale": [
             [
              0,
              "#0d0887"
             ],
             [
              0.1111111111111111,
              "#46039f"
             ],
             [
              0.2222222222222222,
              "#7201a8"
             ],
             [
              0.3333333333333333,
              "#9c179e"
             ],
             [
              0.4444444444444444,
              "#bd3786"
             ],
             [
              0.5555555555555556,
              "#d8576b"
             ],
             [
              0.6666666666666666,
              "#ed7953"
             ],
             [
              0.7777777777777778,
              "#fb9f3a"
             ],
             [
              0.8888888888888888,
              "#fdca26"
             ],
             [
              1,
              "#f0f921"
             ]
            ],
            "type": "surface"
           }
          ],
          "table": [
           {
            "cells": {
             "fill": {
              "color": "#EBF0F8"
             },
             "line": {
              "color": "white"
             }
            },
            "header": {
             "fill": {
              "color": "#C8D4E3"
             },
             "line": {
              "color": "white"
             }
            },
            "type": "table"
           }
          ]
         },
         "layout": {
          "annotationdefaults": {
           "arrowcolor": "#2a3f5f",
           "arrowhead": 0,
           "arrowwidth": 1
          },
          "autotypenumbers": "strict",
          "coloraxis": {
           "colorbar": {
            "outlinewidth": 0,
            "ticks": ""
           }
          },
          "colorscale": {
           "diverging": [
            [
             0,
             "#8e0152"
            ],
            [
             0.1,
             "#c51b7d"
            ],
            [
             0.2,
             "#de77ae"
            ],
            [
             0.3,
             "#f1b6da"
            ],
            [
             0.4,
             "#fde0ef"
            ],
            [
             0.5,
             "#f7f7f7"
            ],
            [
             0.6,
             "#e6f5d0"
            ],
            [
             0.7,
             "#b8e186"
            ],
            [
             0.8,
             "#7fbc41"
            ],
            [
             0.9,
             "#4d9221"
            ],
            [
             1,
             "#276419"
            ]
           ],
           "sequential": [
            [
             0,
             "#0d0887"
            ],
            [
             0.1111111111111111,
             "#46039f"
            ],
            [
             0.2222222222222222,
             "#7201a8"
            ],
            [
             0.3333333333333333,
             "#9c179e"
            ],
            [
             0.4444444444444444,
             "#bd3786"
            ],
            [
             0.5555555555555556,
             "#d8576b"
            ],
            [
             0.6666666666666666,
             "#ed7953"
            ],
            [
             0.7777777777777778,
             "#fb9f3a"
            ],
            [
             0.8888888888888888,
             "#fdca26"
            ],
            [
             1,
             "#f0f921"
            ]
           ],
           "sequentialminus": [
            [
             0,
             "#0d0887"
            ],
            [
             0.1111111111111111,
             "#46039f"
            ],
            [
             0.2222222222222222,
             "#7201a8"
            ],
            [
             0.3333333333333333,
             "#9c179e"
            ],
            [
             0.4444444444444444,
             "#bd3786"
            ],
            [
             0.5555555555555556,
             "#d8576b"
            ],
            [
             0.6666666666666666,
             "#ed7953"
            ],
            [
             0.7777777777777778,
             "#fb9f3a"
            ],
            [
             0.8888888888888888,
             "#fdca26"
            ],
            [
             1,
             "#f0f921"
            ]
           ]
          },
          "colorway": [
           "#636efa",
           "#EF553B",
           "#00cc96",
           "#ab63fa",
           "#FFA15A",
           "#19d3f3",
           "#FF6692",
           "#B6E880",
           "#FF97FF",
           "#FECB52"
          ],
          "font": {
           "color": "#2a3f5f"
          },
          "geo": {
           "bgcolor": "white",
           "lakecolor": "white",
           "landcolor": "#E5ECF6",
           "showlakes": true,
           "showland": true,
           "subunitcolor": "white"
          },
          "hoverlabel": {
           "align": "left"
          },
          "hovermode": "closest",
          "mapbox": {
           "style": "light"
          },
          "paper_bgcolor": "white",
          "plot_bgcolor": "#E5ECF6",
          "polar": {
           "angularaxis": {
            "gridcolor": "white",
            "linecolor": "white",
            "ticks": ""
           },
           "bgcolor": "#E5ECF6",
           "radialaxis": {
            "gridcolor": "white",
            "linecolor": "white",
            "ticks": ""
           }
          },
          "scene": {
           "xaxis": {
            "backgroundcolor": "#E5ECF6",
            "gridcolor": "white",
            "gridwidth": 2,
            "linecolor": "white",
            "showbackground": true,
            "ticks": "",
            "zerolinecolor": "white"
           },
           "yaxis": {
            "backgroundcolor": "#E5ECF6",
            "gridcolor": "white",
            "gridwidth": 2,
            "linecolor": "white",
            "showbackground": true,
            "ticks": "",
            "zerolinecolor": "white"
           },
           "zaxis": {
            "backgroundcolor": "#E5ECF6",
            "gridcolor": "white",
            "gridwidth": 2,
            "linecolor": "white",
            "showbackground": true,
            "ticks": "",
            "zerolinecolor": "white"
           }
          },
          "shapedefaults": {
           "line": {
            "color": "#2a3f5f"
           }
          },
          "ternary": {
           "aaxis": {
            "gridcolor": "white",
            "linecolor": "white",
            "ticks": ""
           },
           "baxis": {
            "gridcolor": "white",
            "linecolor": "white",
            "ticks": ""
           },
           "bgcolor": "#E5ECF6",
           "caxis": {
            "gridcolor": "white",
            "linecolor": "white",
            "ticks": ""
           }
          },
          "title": {
           "x": 0.05
          },
          "xaxis": {
           "automargin": true,
           "gridcolor": "white",
           "linecolor": "white",
           "ticks": "",
           "title": {
            "standoff": 15
           },
           "zerolinecolor": "white",
           "zerolinewidth": 2
          },
          "yaxis": {
           "automargin": true,
           "gridcolor": "white",
           "linecolor": "white",
           "ticks": "",
           "title": {
            "standoff": 15
           },
           "zerolinecolor": "white",
           "zerolinewidth": 2
          }
         }
        },
        "title": {
         "text": "ROC AUC Score by Number of Sequences for each Person"
        },
        "xaxis": {
         "title": {
          "text": "Number of Sequences for each Person"
         }
        },
        "yaxis": {
         "title": {
          "text": "ROC AUC Score"
         }
        }
       }
      }
     },
     "metadata": {},
     "output_type": "display_data"
    }
   ],
   "source": [
    "import plotly.graph_objects as go\n",
    "\n",
    "# Prepare data for unique combinations of 'hparams.use_context' and 'hparams.use_personalisation'\n",
    "unique_combinations = df[['hparams.use_personalisation']].drop_duplicates()\n",
    "\n",
    "# Create a Plotly figure\n",
    "fig = go.Figure()\n",
    "\n",
    "# Add lines for each unique combination for model=\"CPPOD\", outliers=\"omiss\"\n",
    "for _, row in unique_combinations.iterrows():\n",
    "    subset_df = df[(df['hparams.use_personalisation'] == row['hparams.use_personalisation'])]\n",
    "    \n",
    "    label = f\"use_personalisation={row['hparams.use_personalisation']}\"\n",
    "    \n",
    "    fig.add_trace(go.Scatter(x=subset_df['hparams.n_train'],\n",
    "                             y=subset_df['roc_auc_score model=\"CPPOD\", outliers=\"omiss\" '],\n",
    "                             mode='lines',\n",
    "                             name=label))\n",
    "\n",
    "# Add a single line for model=\"GT\", outliers=\"omiss\"\n",
    "any_combination = df[['hparams.use_personalisation']].drop_duplicates().iloc[0]\n",
    "subset_df_for_gt = df[(df['hparams.use_personalisation'] == any_combination['hparams.use_personalisation'])]\n",
    "any_value = subset_df_for_gt['roc_auc_score model=\"GT\", outliers=\"omiss\" '].iloc[0]\n",
    "\n",
    "fig.add_trace(go.Scatter(x=subset_df_for_gt['hparams.n_train'],\n",
    "                         y=subset_df_for_gt['roc_auc_score model=\"GT\", outliers=\"omiss\" '],\n",
    "                         mode='lines',\n",
    "                         name='GT',\n",
    "                         line=dict(dash='dash')))\n",
    "\n",
    "# Update layout\n",
    "fig.update_layout(title='ROC AUC Score by Number of Sequences for each Person',\n",
    "                  xaxis_title='Number of Sequences for each Person',\n",
    "                  yaxis_title='ROC AUC Score',\n",
    "                  legend_title='Model, Personalisation')\n",
    "\n",
    "# Show figure\n",
    "fig.show()"
   ]
  },
  {
   "cell_type": "code",
   "execution_count": 37,
   "metadata": {},
   "outputs": [],
   "source": [
    "df = pd.read_csv('data/aim_data_max_length.csv', parse_dates=['date'], date_format=\"%H:%M:%S · %d %b, %y\")"
   ]
  },
  {
   "cell_type": "code",
   "execution_count": 38,
   "metadata": {},
   "outputs": [
    {
     "data": {
      "text/html": [
       "<div>\n",
       "<style scoped>\n",
       "    .dataframe tbody tr th:only-of-type {\n",
       "        vertical-align: middle;\n",
       "    }\n",
       "\n",
       "    .dataframe tbody tr th {\n",
       "        vertical-align: top;\n",
       "    }\n",
       "\n",
       "    .dataframe thead th {\n",
       "        text-align: right;\n",
       "    }\n",
       "</style>\n",
       "<table border=\"1\" class=\"dataframe\">\n",
       "  <thead>\n",
       "    <tr style=\"text-align: right;\">\n",
       "      <th></th>\n",
       "      <th>run</th>\n",
       "      <th>experiment</th>\n",
       "      <th>duration</th>\n",
       "      <th>date</th>\n",
       "      <th>tags</th>\n",
       "      <th>roc_auc_score model=\"GT\", outliers=\"omiss\"</th>\n",
       "      <th>roc_auc_score model=\"GT\", outliers=\"commiss\"</th>\n",
       "      <th>roc_auc_score model=\"CPPOD\", outliers=\"omiss\"</th>\n",
       "      <th>roc_auc_score model=\"CPPOD\", outliers=\"commiss\"</th>\n",
       "      <th>hparams.use_context</th>\n",
       "      <th>...</th>\n",
       "      <th>roc_auc_score model=\"LEN\", outliers=\"omiss\"</th>\n",
       "      <th>roc_auc_score model=\"RND\", outliers=\"commiss\"</th>\n",
       "      <th>roc_auc_score model=\"RND\", outliers=\"omiss\"</th>\n",
       "      <th>hparams.context_intensity_pois_factors</th>\n",
       "      <th>hparams.context_intensity_pois_min</th>\n",
       "      <th>hparams.dt</th>\n",
       "      <th>hparams.n_test</th>\n",
       "      <th>hparams.n_train</th>\n",
       "      <th>hparams.non_regulator_outliers_prob</th>\n",
       "      <th>hparams.t_max</th>\n",
       "    </tr>\n",
       "  </thead>\n",
       "  <tbody>\n",
       "    <tr>\n",
       "      <th>0</th>\n",
       "      <td>Run: 3505e7f485ab4239a880f559</td>\n",
       "      <td>main</td>\n",
       "      <td>21min 9sec</td>\n",
       "      <td>2023-09-11 20:17:28</td>\n",
       "      <td>[object Object]</td>\n",
       "      <td>0.758667</td>\n",
       "      <td>0.707830</td>\n",
       "      <td>0.741099</td>\n",
       "      <td>0.683685</td>\n",
       "      <td>True</td>\n",
       "      <td>...</td>\n",
       "      <td>0.661561</td>\n",
       "      <td>0.495972</td>\n",
       "      <td>0.500866</td>\n",
       "      <td>[100, 100]</td>\n",
       "      <td>[0.004, 0.01]</td>\n",
       "      <td>0.1</td>\n",
       "      <td>10</td>\n",
       "      <td>10</td>\n",
       "      <td>0.1</td>\n",
       "      <td>2000</td>\n",
       "    </tr>\n",
       "    <tr>\n",
       "      <th>1</th>\n",
       "      <td>Run: 7354b3bea4a046c4b6bdd5ae</td>\n",
       "      <td>main</td>\n",
       "      <td>20min 59sec</td>\n",
       "      <td>2023-09-11 19:55:16</td>\n",
       "      <td>[object Object]</td>\n",
       "      <td>0.758667</td>\n",
       "      <td>0.707830</td>\n",
       "      <td>0.740594</td>\n",
       "      <td>0.683831</td>\n",
       "      <td>True</td>\n",
       "      <td>...</td>\n",
       "      <td>0.661561</td>\n",
       "      <td>0.495972</td>\n",
       "      <td>0.500866</td>\n",
       "      <td>[100, 100]</td>\n",
       "      <td>[0.004, 0.01]</td>\n",
       "      <td>0.1</td>\n",
       "      <td>10</td>\n",
       "      <td>10</td>\n",
       "      <td>0.1</td>\n",
       "      <td>2000</td>\n",
       "    </tr>\n",
       "    <tr>\n",
       "      <th>2</th>\n",
       "      <td>Run: b65ef586a4774b7e9005aaed</td>\n",
       "      <td>main</td>\n",
       "      <td>18min 9sec</td>\n",
       "      <td>2023-09-11 19:37:06</td>\n",
       "      <td>[object Object]</td>\n",
       "      <td>0.758695</td>\n",
       "      <td>0.710850</td>\n",
       "      <td>0.749038</td>\n",
       "      <td>0.698525</td>\n",
       "      <td>True</td>\n",
       "      <td>...</td>\n",
       "      <td>0.662307</td>\n",
       "      <td>0.502432</td>\n",
       "      <td>0.500216</td>\n",
       "      <td>[100, 100]</td>\n",
       "      <td>[0.004, 0.01]</td>\n",
       "      <td>0.1</td>\n",
       "      <td>10</td>\n",
       "      <td>10</td>\n",
       "      <td>0.1</td>\n",
       "      <td>1000</td>\n",
       "    </tr>\n",
       "    <tr>\n",
       "      <th>3</th>\n",
       "      <td>Run: 4eb707121a1640fea7e7058d</td>\n",
       "      <td>main</td>\n",
       "      <td>9min 29sec</td>\n",
       "      <td>2023-09-11 19:27:37</td>\n",
       "      <td>[object Object]</td>\n",
       "      <td>0.758960</td>\n",
       "      <td>0.709235</td>\n",
       "      <td>0.749493</td>\n",
       "      <td>0.695922</td>\n",
       "      <td>True</td>\n",
       "      <td>...</td>\n",
       "      <td>0.663257</td>\n",
       "      <td>0.500062</td>\n",
       "      <td>0.499396</td>\n",
       "      <td>[100, 100]</td>\n",
       "      <td>[0.004, 0.01]</td>\n",
       "      <td>0.1</td>\n",
       "      <td>10</td>\n",
       "      <td>10</td>\n",
       "      <td>0.1</td>\n",
       "      <td>500</td>\n",
       "    </tr>\n",
       "    <tr>\n",
       "      <th>4</th>\n",
       "      <td>Run: 40c26d31112d4b3eafb43b3f</td>\n",
       "      <td>main</td>\n",
       "      <td>4min 5sec</td>\n",
       "      <td>2023-09-11 19:23:31</td>\n",
       "      <td>[object Object]</td>\n",
       "      <td>0.758081</td>\n",
       "      <td>0.717644</td>\n",
       "      <td>0.742242</td>\n",
       "      <td>0.701830</td>\n",
       "      <td>True</td>\n",
       "      <td>...</td>\n",
       "      <td>0.658332</td>\n",
       "      <td>0.491281</td>\n",
       "      <td>0.500826</td>\n",
       "      <td>[100, 100]</td>\n",
       "      <td>[0.004, 0.01]</td>\n",
       "      <td>0.1</td>\n",
       "      <td>10</td>\n",
       "      <td>10</td>\n",
       "      <td>0.1</td>\n",
       "      <td>200</td>\n",
       "    </tr>\n",
       "  </tbody>\n",
       "</table>\n",
       "<p>5 rows × 24 columns</p>\n",
       "</div>"
      ],
      "text/plain": [
       "                             run experiment     duration                date  \\\n",
       "0  Run: 3505e7f485ab4239a880f559       main   21min 9sec 2023-09-11 20:17:28   \n",
       "1  Run: 7354b3bea4a046c4b6bdd5ae       main  20min 59sec 2023-09-11 19:55:16   \n",
       "2  Run: b65ef586a4774b7e9005aaed       main   18min 9sec 2023-09-11 19:37:06   \n",
       "3  Run: 4eb707121a1640fea7e7058d       main   9min 29sec 2023-09-11 19:27:37   \n",
       "4  Run: 40c26d31112d4b3eafb43b3f       main    4min 5sec 2023-09-11 19:23:31   \n",
       "\n",
       "              tags  roc_auc_score model=\"GT\", outliers=\"omiss\"   \\\n",
       "0  [object Object]                                     0.758667   \n",
       "1  [object Object]                                     0.758667   \n",
       "2  [object Object]                                     0.758695   \n",
       "3  [object Object]                                     0.758960   \n",
       "4  [object Object]                                     0.758081   \n",
       "\n",
       "   roc_auc_score model=\"GT\", outliers=\"commiss\"   \\\n",
       "0                                       0.707830   \n",
       "1                                       0.707830   \n",
       "2                                       0.710850   \n",
       "3                                       0.709235   \n",
       "4                                       0.717644   \n",
       "\n",
       "   roc_auc_score model=\"CPPOD\", outliers=\"omiss\"   \\\n",
       "0                                        0.741099   \n",
       "1                                        0.740594   \n",
       "2                                        0.749038   \n",
       "3                                        0.749493   \n",
       "4                                        0.742242   \n",
       "\n",
       "   roc_auc_score model=\"CPPOD\", outliers=\"commiss\"   hparams.use_context  ...  \\\n",
       "0                                          0.683685                 True  ...   \n",
       "1                                          0.683831                 True  ...   \n",
       "2                                          0.698525                 True  ...   \n",
       "3                                          0.695922                 True  ...   \n",
       "4                                          0.701830                 True  ...   \n",
       "\n",
       "   roc_auc_score model=\"LEN\", outliers=\"omiss\"   \\\n",
       "0                                      0.661561   \n",
       "1                                      0.661561   \n",
       "2                                      0.662307   \n",
       "3                                      0.663257   \n",
       "4                                      0.658332   \n",
       "\n",
       "   roc_auc_score model=\"RND\", outliers=\"commiss\"   \\\n",
       "0                                        0.495972   \n",
       "1                                        0.495972   \n",
       "2                                        0.502432   \n",
       "3                                        0.500062   \n",
       "4                                        0.491281   \n",
       "\n",
       "   roc_auc_score model=\"RND\", outliers=\"omiss\"   \\\n",
       "0                                      0.500866   \n",
       "1                                      0.500866   \n",
       "2                                      0.500216   \n",
       "3                                      0.499396   \n",
       "4                                      0.500826   \n",
       "\n",
       "   hparams.context_intensity_pois_factors  hparams.context_intensity_pois_min  \\\n",
       "0                              [100, 100]                       [0.004, 0.01]   \n",
       "1                              [100, 100]                       [0.004, 0.01]   \n",
       "2                              [100, 100]                       [0.004, 0.01]   \n",
       "3                              [100, 100]                       [0.004, 0.01]   \n",
       "4                              [100, 100]                       [0.004, 0.01]   \n",
       "\n",
       "   hparams.dt  hparams.n_test hparams.n_train  \\\n",
       "0         0.1              10              10   \n",
       "1         0.1              10              10   \n",
       "2         0.1              10              10   \n",
       "3         0.1              10              10   \n",
       "4         0.1              10              10   \n",
       "\n",
       "  hparams.non_regulator_outliers_prob  hparams.t_max  \n",
       "0                                 0.1           2000  \n",
       "1                                 0.1           2000  \n",
       "2                                 0.1           1000  \n",
       "3                                 0.1            500  \n",
       "4                                 0.1            200  \n",
       "\n",
       "[5 rows x 24 columns]"
      ]
     },
     "execution_count": 38,
     "metadata": {},
     "output_type": "execute_result"
    }
   ],
   "source": [
    "df.head()"
   ]
  },
  {
   "cell_type": "code",
   "execution_count": 39,
   "metadata": {},
   "outputs": [
    {
     "data": {
      "application/vnd.plotly.v1+json": {
       "config": {
        "plotlyServerURL": "https://plot.ly"
       },
       "data": [
        {
         "mode": "lines",
         "name": "use_context=True, use_personalisation=True",
         "type": "scatter",
         "x": [
          2000,
          1000,
          500,
          200,
          100,
          50
         ],
         "y": [
          0.7410993,
          0.74803874,
          0.75003687,
          0.74878195,
          0.75738388,
          0.72819258
         ]
        },
        {
         "mode": "lines",
         "name": "use_context=True, use_personalisation=False",
         "type": "scatter",
         "x": [
          2000,
          1000,
          500,
          200,
          100,
          50
         ],
         "y": [
          0.74059411,
          0.74903827,
          0.7494929,
          0.74224237,
          0.7389265,
          0.7236645
         ]
        },
        {
         "mode": "lines",
         "name": "use_context=False, use_personalisation=False",
         "type": "scatter",
         "x": [
          2000,
          1000,
          500,
          200,
          100,
          50
         ],
         "y": [
          0.71747733,
          0.72034598,
          0.71959164,
          0.71321244,
          0.71626192,
          0.71029426
         ]
        },
        {
         "mode": "lines",
         "name": "use_context=False, use_personalisation=True",
         "type": "scatter",
         "x": [
          2000,
          1000,
          500,
          200,
          100,
          50
         ],
         "y": [
          0.71442424,
          0.72113293,
          0.72086938,
          0.71383051,
          0.71900394,
          0.71711009
         ]
        },
        {
         "line": {
          "dash": "dash"
         },
         "mode": "lines",
         "name": "GT",
         "type": "scatter",
         "x": [
          2000,
          1000,
          500,
          200,
          100,
          50
         ],
         "y": [
          0.7586668,
          0.75869499,
          0.75895975,
          0.75808116,
          0.76221995,
          0.76031406
         ]
        }
       ],
       "layout": {
        "legend": {
         "title": {
          "text": "Model, Context & Personalisation"
         }
        },
        "template": {
         "data": {
          "bar": [
           {
            "error_x": {
             "color": "#2a3f5f"
            },
            "error_y": {
             "color": "#2a3f5f"
            },
            "marker": {
             "line": {
              "color": "#E5ECF6",
              "width": 0.5
             },
             "pattern": {
              "fillmode": "overlay",
              "size": 10,
              "solidity": 0.2
             }
            },
            "type": "bar"
           }
          ],
          "barpolar": [
           {
            "marker": {
             "line": {
              "color": "#E5ECF6",
              "width": 0.5
             },
             "pattern": {
              "fillmode": "overlay",
              "size": 10,
              "solidity": 0.2
             }
            },
            "type": "barpolar"
           }
          ],
          "carpet": [
           {
            "aaxis": {
             "endlinecolor": "#2a3f5f",
             "gridcolor": "white",
             "linecolor": "white",
             "minorgridcolor": "white",
             "startlinecolor": "#2a3f5f"
            },
            "baxis": {
             "endlinecolor": "#2a3f5f",
             "gridcolor": "white",
             "linecolor": "white",
             "minorgridcolor": "white",
             "startlinecolor": "#2a3f5f"
            },
            "type": "carpet"
           }
          ],
          "choropleth": [
           {
            "colorbar": {
             "outlinewidth": 0,
             "ticks": ""
            },
            "type": "choropleth"
           }
          ],
          "contour": [
           {
            "colorbar": {
             "outlinewidth": 0,
             "ticks": ""
            },
            "colorscale": [
             [
              0,
              "#0d0887"
             ],
             [
              0.1111111111111111,
              "#46039f"
             ],
             [
              0.2222222222222222,
              "#7201a8"
             ],
             [
              0.3333333333333333,
              "#9c179e"
             ],
             [
              0.4444444444444444,
              "#bd3786"
             ],
             [
              0.5555555555555556,
              "#d8576b"
             ],
             [
              0.6666666666666666,
              "#ed7953"
             ],
             [
              0.7777777777777778,
              "#fb9f3a"
             ],
             [
              0.8888888888888888,
              "#fdca26"
             ],
             [
              1,
              "#f0f921"
             ]
            ],
            "type": "contour"
           }
          ],
          "contourcarpet": [
           {
            "colorbar": {
             "outlinewidth": 0,
             "ticks": ""
            },
            "type": "contourcarpet"
           }
          ],
          "heatmap": [
           {
            "colorbar": {
             "outlinewidth": 0,
             "ticks": ""
            },
            "colorscale": [
             [
              0,
              "#0d0887"
             ],
             [
              0.1111111111111111,
              "#46039f"
             ],
             [
              0.2222222222222222,
              "#7201a8"
             ],
             [
              0.3333333333333333,
              "#9c179e"
             ],
             [
              0.4444444444444444,
              "#bd3786"
             ],
             [
              0.5555555555555556,
              "#d8576b"
             ],
             [
              0.6666666666666666,
              "#ed7953"
             ],
             [
              0.7777777777777778,
              "#fb9f3a"
             ],
             [
              0.8888888888888888,
              "#fdca26"
             ],
             [
              1,
              "#f0f921"
             ]
            ],
            "type": "heatmap"
           }
          ],
          "heatmapgl": [
           {
            "colorbar": {
             "outlinewidth": 0,
             "ticks": ""
            },
            "colorscale": [
             [
              0,
              "#0d0887"
             ],
             [
              0.1111111111111111,
              "#46039f"
             ],
             [
              0.2222222222222222,
              "#7201a8"
             ],
             [
              0.3333333333333333,
              "#9c179e"
             ],
             [
              0.4444444444444444,
              "#bd3786"
             ],
             [
              0.5555555555555556,
              "#d8576b"
             ],
             [
              0.6666666666666666,
              "#ed7953"
             ],
             [
              0.7777777777777778,
              "#fb9f3a"
             ],
             [
              0.8888888888888888,
              "#fdca26"
             ],
             [
              1,
              "#f0f921"
             ]
            ],
            "type": "heatmapgl"
           }
          ],
          "histogram": [
           {
            "marker": {
             "pattern": {
              "fillmode": "overlay",
              "size": 10,
              "solidity": 0.2
             }
            },
            "type": "histogram"
           }
          ],
          "histogram2d": [
           {
            "colorbar": {
             "outlinewidth": 0,
             "ticks": ""
            },
            "colorscale": [
             [
              0,
              "#0d0887"
             ],
             [
              0.1111111111111111,
              "#46039f"
             ],
             [
              0.2222222222222222,
              "#7201a8"
             ],
             [
              0.3333333333333333,
              "#9c179e"
             ],
             [
              0.4444444444444444,
              "#bd3786"
             ],
             [
              0.5555555555555556,
              "#d8576b"
             ],
             [
              0.6666666666666666,
              "#ed7953"
             ],
             [
              0.7777777777777778,
              "#fb9f3a"
             ],
             [
              0.8888888888888888,
              "#fdca26"
             ],
             [
              1,
              "#f0f921"
             ]
            ],
            "type": "histogram2d"
           }
          ],
          "histogram2dcontour": [
           {
            "colorbar": {
             "outlinewidth": 0,
             "ticks": ""
            },
            "colorscale": [
             [
              0,
              "#0d0887"
             ],
             [
              0.1111111111111111,
              "#46039f"
             ],
             [
              0.2222222222222222,
              "#7201a8"
             ],
             [
              0.3333333333333333,
              "#9c179e"
             ],
             [
              0.4444444444444444,
              "#bd3786"
             ],
             [
              0.5555555555555556,
              "#d8576b"
             ],
             [
              0.6666666666666666,
              "#ed7953"
             ],
             [
              0.7777777777777778,
              "#fb9f3a"
             ],
             [
              0.8888888888888888,
              "#fdca26"
             ],
             [
              1,
              "#f0f921"
             ]
            ],
            "type": "histogram2dcontour"
           }
          ],
          "mesh3d": [
           {
            "colorbar": {
             "outlinewidth": 0,
             "ticks": ""
            },
            "type": "mesh3d"
           }
          ],
          "parcoords": [
           {
            "line": {
             "colorbar": {
              "outlinewidth": 0,
              "ticks": ""
             }
            },
            "type": "parcoords"
           }
          ],
          "pie": [
           {
            "automargin": true,
            "type": "pie"
           }
          ],
          "scatter": [
           {
            "fillpattern": {
             "fillmode": "overlay",
             "size": 10,
             "solidity": 0.2
            },
            "type": "scatter"
           }
          ],
          "scatter3d": [
           {
            "line": {
             "colorbar": {
              "outlinewidth": 0,
              "ticks": ""
             }
            },
            "marker": {
             "colorbar": {
              "outlinewidth": 0,
              "ticks": ""
             }
            },
            "type": "scatter3d"
           }
          ],
          "scattercarpet": [
           {
            "marker": {
             "colorbar": {
              "outlinewidth": 0,
              "ticks": ""
             }
            },
            "type": "scattercarpet"
           }
          ],
          "scattergeo": [
           {
            "marker": {
             "colorbar": {
              "outlinewidth": 0,
              "ticks": ""
             }
            },
            "type": "scattergeo"
           }
          ],
          "scattergl": [
           {
            "marker": {
             "colorbar": {
              "outlinewidth": 0,
              "ticks": ""
             }
            },
            "type": "scattergl"
           }
          ],
          "scattermapbox": [
           {
            "marker": {
             "colorbar": {
              "outlinewidth": 0,
              "ticks": ""
             }
            },
            "type": "scattermapbox"
           }
          ],
          "scatterpolar": [
           {
            "marker": {
             "colorbar": {
              "outlinewidth": 0,
              "ticks": ""
             }
            },
            "type": "scatterpolar"
           }
          ],
          "scatterpolargl": [
           {
            "marker": {
             "colorbar": {
              "outlinewidth": 0,
              "ticks": ""
             }
            },
            "type": "scatterpolargl"
           }
          ],
          "scatterternary": [
           {
            "marker": {
             "colorbar": {
              "outlinewidth": 0,
              "ticks": ""
             }
            },
            "type": "scatterternary"
           }
          ],
          "surface": [
           {
            "colorbar": {
             "outlinewidth": 0,
             "ticks": ""
            },
            "colorscale": [
             [
              0,
              "#0d0887"
             ],
             [
              0.1111111111111111,
              "#46039f"
             ],
             [
              0.2222222222222222,
              "#7201a8"
             ],
             [
              0.3333333333333333,
              "#9c179e"
             ],
             [
              0.4444444444444444,
              "#bd3786"
             ],
             [
              0.5555555555555556,
              "#d8576b"
             ],
             [
              0.6666666666666666,
              "#ed7953"
             ],
             [
              0.7777777777777778,
              "#fb9f3a"
             ],
             [
              0.8888888888888888,
              "#fdca26"
             ],
             [
              1,
              "#f0f921"
             ]
            ],
            "type": "surface"
           }
          ],
          "table": [
           {
            "cells": {
             "fill": {
              "color": "#EBF0F8"
             },
             "line": {
              "color": "white"
             }
            },
            "header": {
             "fill": {
              "color": "#C8D4E3"
             },
             "line": {
              "color": "white"
             }
            },
            "type": "table"
           }
          ]
         },
         "layout": {
          "annotationdefaults": {
           "arrowcolor": "#2a3f5f",
           "arrowhead": 0,
           "arrowwidth": 1
          },
          "autotypenumbers": "strict",
          "coloraxis": {
           "colorbar": {
            "outlinewidth": 0,
            "ticks": ""
           }
          },
          "colorscale": {
           "diverging": [
            [
             0,
             "#8e0152"
            ],
            [
             0.1,
             "#c51b7d"
            ],
            [
             0.2,
             "#de77ae"
            ],
            [
             0.3,
             "#f1b6da"
            ],
            [
             0.4,
             "#fde0ef"
            ],
            [
             0.5,
             "#f7f7f7"
            ],
            [
             0.6,
             "#e6f5d0"
            ],
            [
             0.7,
             "#b8e186"
            ],
            [
             0.8,
             "#7fbc41"
            ],
            [
             0.9,
             "#4d9221"
            ],
            [
             1,
             "#276419"
            ]
           ],
           "sequential": [
            [
             0,
             "#0d0887"
            ],
            [
             0.1111111111111111,
             "#46039f"
            ],
            [
             0.2222222222222222,
             "#7201a8"
            ],
            [
             0.3333333333333333,
             "#9c179e"
            ],
            [
             0.4444444444444444,
             "#bd3786"
            ],
            [
             0.5555555555555556,
             "#d8576b"
            ],
            [
             0.6666666666666666,
             "#ed7953"
            ],
            [
             0.7777777777777778,
             "#fb9f3a"
            ],
            [
             0.8888888888888888,
             "#fdca26"
            ],
            [
             1,
             "#f0f921"
            ]
           ],
           "sequentialminus": [
            [
             0,
             "#0d0887"
            ],
            [
             0.1111111111111111,
             "#46039f"
            ],
            [
             0.2222222222222222,
             "#7201a8"
            ],
            [
             0.3333333333333333,
             "#9c179e"
            ],
            [
             0.4444444444444444,
             "#bd3786"
            ],
            [
             0.5555555555555556,
             "#d8576b"
            ],
            [
             0.6666666666666666,
             "#ed7953"
            ],
            [
             0.7777777777777778,
             "#fb9f3a"
            ],
            [
             0.8888888888888888,
             "#fdca26"
            ],
            [
             1,
             "#f0f921"
            ]
           ]
          },
          "colorway": [
           "#636efa",
           "#EF553B",
           "#00cc96",
           "#ab63fa",
           "#FFA15A",
           "#19d3f3",
           "#FF6692",
           "#B6E880",
           "#FF97FF",
           "#FECB52"
          ],
          "font": {
           "color": "#2a3f5f"
          },
          "geo": {
           "bgcolor": "white",
           "lakecolor": "white",
           "landcolor": "#E5ECF6",
           "showlakes": true,
           "showland": true,
           "subunitcolor": "white"
          },
          "hoverlabel": {
           "align": "left"
          },
          "hovermode": "closest",
          "mapbox": {
           "style": "light"
          },
          "paper_bgcolor": "white",
          "plot_bgcolor": "#E5ECF6",
          "polar": {
           "angularaxis": {
            "gridcolor": "white",
            "linecolor": "white",
            "ticks": ""
           },
           "bgcolor": "#E5ECF6",
           "radialaxis": {
            "gridcolor": "white",
            "linecolor": "white",
            "ticks": ""
           }
          },
          "scene": {
           "xaxis": {
            "backgroundcolor": "#E5ECF6",
            "gridcolor": "white",
            "gridwidth": 2,
            "linecolor": "white",
            "showbackground": true,
            "ticks": "",
            "zerolinecolor": "white"
           },
           "yaxis": {
            "backgroundcolor": "#E5ECF6",
            "gridcolor": "white",
            "gridwidth": 2,
            "linecolor": "white",
            "showbackground": true,
            "ticks": "",
            "zerolinecolor": "white"
           },
           "zaxis": {
            "backgroundcolor": "#E5ECF6",
            "gridcolor": "white",
            "gridwidth": 2,
            "linecolor": "white",
            "showbackground": true,
            "ticks": "",
            "zerolinecolor": "white"
           }
          },
          "shapedefaults": {
           "line": {
            "color": "#2a3f5f"
           }
          },
          "ternary": {
           "aaxis": {
            "gridcolor": "white",
            "linecolor": "white",
            "ticks": ""
           },
           "baxis": {
            "gridcolor": "white",
            "linecolor": "white",
            "ticks": ""
           },
           "bgcolor": "#E5ECF6",
           "caxis": {
            "gridcolor": "white",
            "linecolor": "white",
            "ticks": ""
           }
          },
          "title": {
           "x": 0.05
          },
          "xaxis": {
           "automargin": true,
           "gridcolor": "white",
           "linecolor": "white",
           "ticks": "",
           "title": {
            "standoff": 15
           },
           "zerolinecolor": "white",
           "zerolinewidth": 2
          },
          "yaxis": {
           "automargin": true,
           "gridcolor": "white",
           "linecolor": "white",
           "ticks": "",
           "title": {
            "standoff": 15
           },
           "zerolinecolor": "white",
           "zerolinewidth": 2
          }
         }
        },
        "title": {
         "text": "ROC AUC Score by Length of Sequence"
        },
        "xaxis": {
         "title": {
          "text": "Length of Sequence"
         }
        },
        "yaxis": {
         "title": {
          "text": "ROC AUC Score"
         }
        }
       }
      }
     },
     "metadata": {},
     "output_type": "display_data"
    }
   ],
   "source": [
    "import plotly.graph_objects as go\n",
    "\n",
    "# Prepare data for unique combinations of 'hparams.use_context' and 'hparams.use_personalisation'\n",
    "unique_combinations = df[['hparams.use_context', 'hparams.use_personalisation']].drop_duplicates()\n",
    "\n",
    "# Create a Plotly figure\n",
    "fig = go.Figure()\n",
    "\n",
    "# Add lines for each unique combination for model=\"CPPOD\", outliers=\"omiss\"\n",
    "for _, row in unique_combinations.iterrows():\n",
    "    subset_df = df[(df['hparams.use_context'] == row['hparams.use_context']) & \n",
    "                            (df['hparams.use_personalisation'] == row['hparams.use_personalisation'])]\n",
    "    \n",
    "    label = f\"use_context={row['hparams.use_context']}, use_personalisation={row['hparams.use_personalisation']}\"\n",
    "    \n",
    "    fig.add_trace(go.Scatter(x=subset_df['hparams.t_max'],\n",
    "                             y=subset_df['roc_auc_score model=\"CPPOD\", outliers=\"omiss\" '],\n",
    "                             mode='lines',\n",
    "                             name=label))\n",
    "\n",
    "# Add a single line for model=\"GT\", outliers=\"omiss\"\n",
    "any_combination = df[['hparams.use_context', 'hparams.use_personalisation']].drop_duplicates().iloc[0]\n",
    "subset_df_for_gt = df[(df['hparams.use_context'] == any_combination['hparams.use_context']) & \n",
    "                               (df['hparams.use_personalisation'] == any_combination['hparams.use_personalisation'])]\n",
    "any_value = subset_df_for_gt['roc_auc_score model=\"GT\", outliers=\"omiss\" '].iloc[0]\n",
    "\n",
    "fig.add_trace(go.Scatter(x=subset_df_for_gt['hparams.t_max'],\n",
    "                         y=subset_df_for_gt['roc_auc_score model=\"GT\", outliers=\"omiss\" '],\n",
    "                         mode='lines',\n",
    "                         name='GT',\n",
    "                         line=dict(dash='dash')))\n",
    "\n",
    "# Update layout\n",
    "fig.update_layout(title='ROC AUC Score by Length of Sequence',\n",
    "                  xaxis_title='Length of Sequence',\n",
    "                  yaxis_title='ROC AUC Score',\n",
    "                  legend_title='Model, Context & Personalisation')\n",
    "\n",
    "# Show figure\n",
    "fig.show()"
   ]
  },
  {
   "cell_type": "code",
   "execution_count": null,
   "metadata": {},
   "outputs": [],
   "source": []
  }
 ],
 "metadata": {
  "kernelspec": {
   "display_name": ".venv",
   "language": "python",
   "name": "python3"
  },
  "language_info": {
   "codemirror_mode": {
    "name": "ipython",
    "version": 3
   },
   "file_extension": ".py",
   "mimetype": "text/x-python",
   "name": "python",
   "nbconvert_exporter": "python",
   "pygments_lexer": "ipython3",
   "version": "3.10.11"
  },
  "orig_nbformat": 4
 },
 "nbformat": 4,
 "nbformat_minor": 2
}
